{
 "cells": [
  {
   "cell_type": "markdown",
   "metadata": {
    "application/vnd.databricks.v1+cell": {
     "cellMetadata": {},
     "inputWidgets": {},
     "nuid": "b8a89d54-c9d6-4d3c-a3a0-01246a672f63",
     "showTitle": false,
     "title": ""
    }
   },
   "source": [
    "-sandbox\n",
    "\n",
    "<div style=\"text-align: center; line-height: 0; padding-top: 9px;\">\n",
    "  <img src=\"https://databricks.com/wp-content/uploads/2018/03/db-academy-rgb-1200px.png\" alt=\"Databricks Learning\" style=\"width: 600px\">\n",
    "</div>"
   ]
  },
  {
   "cell_type": "markdown",
   "metadata": {
    "application/vnd.databricks.v1+cell": {
     "cellMetadata": {},
     "inputWidgets": {},
     "nuid": "fb931cf3-7650-4907-b405-5cf6b5d8a612",
     "showTitle": false,
     "title": ""
    }
   },
   "source": [
    "# Last Mile ETL with Databricks SQL\n",
    "\n",
    "Before we continue, let's do a recap of some of the things we've learned so far:\n",
    "1. The Databricks workspace contains a suite of tools to simplify the data engineering development lifecycle\n",
    "1. Databricks notebooks allow users to mix SQL with other programming languages to define ETL workloads\n",
    "1. Delta Lake provides ACID compliant transactions and makes incremental data processing easy in the Lakehouse\n",
    "1. Delta Live Tables extends the SQL syntax to support many design patterns in the Lakehouse, and simplifies infrastructure deployment\n",
    "1. Multi-task jobs allows for full task orchestration, adding dependencies while scheduling a mix of notebooks and DLT pipelines\n",
    "1. Databricks SQL allows users to edit and execute SQL queries, build visualizations, and define dashboards\n",
    "1. Data Explorer simplifies managing Table ACLs, making Lakehouse data available to SQL analysts (soon to be expanded greatly by Unity Catalog)\n",
    "\n",
    "In this section, we'll focus on exploring more DBSQL functionality to support production workloads. \n",
    "\n",
    "We'll start by focusing on leveraging Databricks SQL to configure queries that support last mile ETL for analytics. Note that while we'll be using the Databricks SQL UI for this demo, SQL Warehouses <a href=\"https://docs.databricks.com/integrations/partners.html\" target=\"_blank\">integrate with a number of other tools to allow external query execution</a>, as well as having <a href=\"https://docs.databricks.com/sql/api/index.html\" target=\"_blank\">full API support for executing arbitrary queries programmatically</a>.\n",
    "\n",
    "From these query results, we'll generate a series of visualizations, which we'll combine into a dashboard.\n",
    "\n",
    "Finally, we'll walk through scheduling updates for queries and dashboards, and demonstrate setting alerts to help monitor the state of production datasets over time.\n",
    "\n",
    "## Learning Objectives\n",
    "By the end of this lesson, you should be able to:\n",
    "* Use Databricks SQL as a tool to support production ETL tasks backing analytic workloads\n",
    "* Configure SQL queries and visualizations with the Databricks SQL Editor\n",
    "* Create dashboards in Databricks SQL\n",
    "* Schedule updates for queries and dashboards\n",
    "* Set alerts for SQL queries"
   ]
  },
  {
   "cell_type": "markdown",
   "metadata": {
    "application/vnd.databricks.v1+cell": {
     "cellMetadata": {},
     "inputWidgets": {},
     "nuid": "219813b5-3b17-49d1-8fc7-e4970827141b",
     "showTitle": false,
     "title": ""
    }
   },
   "source": [
    "## Run Setup Script\n",
    "The following cells runs a notebook that defines a class we'll use to generate SQL queries."
   ]
  },
  {
   "cell_type": "code",
   "execution_count": 0,
   "metadata": {
    "application/vnd.databricks.v1+cell": {
     "cellMetadata": {},
     "inputWidgets": {},
     "nuid": "61c14baa-7d7c-4886-bcaf-08b99a844ad3",
     "showTitle": false,
     "title": ""
    }
   },
   "outputs": [],
   "source": [
    "%run ../Includes/Classroom-Setup-05.4"
   ]
  },
  {
   "cell_type": "markdown",
   "metadata": {
    "application/vnd.databricks.v1+cell": {
     "cellMetadata": {},
     "inputWidgets": {},
     "nuid": "58faadcd-6050-4867-ad6f-37c8d34f1109",
     "showTitle": false,
     "title": ""
    }
   },
   "source": [
    "## Create a Demo Database\n",
    "Execute the following cell and copy the results into the Databricks SQL Editor.\n",
    "\n",
    "These queries:\n",
    "* Create a new database\n",
    "* Declare two tables (we'll use these for loading data)\n",
    "* Declare two functions (we'll use these for generating data)\n",
    "\n",
    "Once copied, execute the query using the **Run** button."
   ]
  },
  {
   "cell_type": "code",
   "execution_count": 0,
   "metadata": {
    "application/vnd.databricks.v1+cell": {
     "cellMetadata": {},
     "inputWidgets": {},
     "nuid": "2c769195-b1dc-4b89-91b7-4b550dd8dd0c",
     "showTitle": false,
     "title": ""
    }
   },
   "outputs": [],
   "source": [
    "DA.generate_config()"
   ]
  },
  {
   "cell_type": "markdown",
   "metadata": {
    "application/vnd.databricks.v1+cell": {
     "cellMetadata": {},
     "inputWidgets": {},
     "nuid": "4fedb7d0-fad4-4be2-98a2-e1c9598f3cb8",
     "showTitle": false,
     "title": ""
    }
   },
   "source": [
    "**NOTE**: The queries above are only designed to be run once after resetting the demo completely to reconfigure the environment. \n",
    "\n",
    "Users will need to have **`CREATE`** and **`USAGE`** permissions on the catalog to execute them."
   ]
  },
  {
   "cell_type": "markdown",
   "metadata": {
    "application/vnd.databricks.v1+cell": {
     "cellMetadata": {},
     "inputWidgets": {},
     "nuid": "62d07414-6a8e-4fa7-82a4-1010e9095183",
     "showTitle": false,
     "title": ""
    }
   },
   "source": [
    "<img src=\"https://files.training.databricks.com/images/icon_warn_32.png\"> \n",
    "**WARNING:** Make sure to select your database before proceeding as the **`USE`** statement<br/>doesn't yet change the database against which your queries will execute"
   ]
  },
  {
   "cell_type": "markdown",
   "metadata": {
    "application/vnd.databricks.v1+cell": {
     "cellMetadata": {},
     "inputWidgets": {},
     "nuid": "164746b1-1f08-47c0-b3ef-42d1df7157da",
     "showTitle": false,
     "title": ""
    }
   },
   "source": [
    "## Create a Query to Load Data\n",
    "Steps:\n",
    "1. Execute the cell below to print out a formatted SQL query for loading data in the **`user_ping`** table created in the previous step.\n",
    "1. Save this query with the name **Load Ping Data**.\n",
    "1. Run this query to load a batch of data."
   ]
  },
  {
   "cell_type": "code",
   "execution_count": 0,
   "metadata": {
    "application/vnd.databricks.v1+cell": {
     "cellMetadata": {},
     "inputWidgets": {},
     "nuid": "193115da-34b8-4b41-b48b-c50caa0d2b6f",
     "showTitle": false,
     "title": ""
    }
   },
   "outputs": [],
   "source": [
    "DA.generate_load()"
   ]
  },
  {
   "cell_type": "markdown",
   "metadata": {
    "application/vnd.databricks.v1+cell": {
     "cellMetadata": {},
     "inputWidgets": {},
     "nuid": "bc546698-e78d-446a-80a8-c91f2d546817",
     "showTitle": false,
     "title": ""
    }
   },
   "source": [
    "Executing the query should load some data and return a preview of the data in the table.\n",
    "\n",
    "**NOTE**: Random numbers are being used to define and load data, so each user will have slightly different values present."
   ]
  },
  {
   "cell_type": "markdown",
   "metadata": {
    "application/vnd.databricks.v1+cell": {
     "cellMetadata": {},
     "inputWidgets": {},
     "nuid": "dc909ff3-bcaf-4b1e-9022-b08be4164ad8",
     "showTitle": false,
     "title": ""
    }
   },
   "source": [
    "## Set a Query Refresh Schedule\n",
    "\n",
    "Steps:\n",
    "1. Locate the **Refresh Schedule** field at the bottom right of the SQL query editor box; click the blue **Never**\n",
    "1. Use the drop down to change to Refresh every **1 week** at **12:00**\n",
    "1. For **Ends**, click the **On** radio button\n",
    "1. Select tomorrow's date\n",
    "1. Click **OK**\n",
    "\n",
    "**NOTE:** Although we are using a refresh schedule of 1 week for classroom purposes, you'll likely see shorter trigger intervals in production, such as schedules to refresh every 1 minute."
   ]
  },
  {
   "cell_type": "markdown",
   "metadata": {
    "application/vnd.databricks.v1+cell": {
     "cellMetadata": {},
     "inputWidgets": {},
     "nuid": "8b807583-2f69-4e47-8646-670881d6b8eb",
     "showTitle": false,
     "title": ""
    }
   },
   "source": [
    "## Create a Query to Track Total Records\n",
    "Steps:\n",
    "1. Execute the cell below.\n",
    "1. Save this query with the name **User Counts**.\n",
    "1. Run the query to calculate the current results."
   ]
  },
  {
   "cell_type": "code",
   "execution_count": 0,
   "metadata": {
    "application/vnd.databricks.v1+cell": {
     "cellMetadata": {},
     "inputWidgets": {},
     "nuid": "f7086703-870b-4ffb-a82b-a88c83f2a7aa",
     "showTitle": false,
     "title": ""
    }
   },
   "outputs": [],
   "source": [
    "DA.generate_user_counts()"
   ]
  },
  {
   "cell_type": "markdown",
   "metadata": {
    "application/vnd.databricks.v1+cell": {
     "cellMetadata": {},
     "inputWidgets": {},
     "nuid": "6879c021-16bd-46e5-bf00-7dcfa6f63975",
     "showTitle": false,
     "title": ""
    }
   },
   "source": [
    "## Create a Bar Graph Visualization\n",
    "\n",
    "Steps:\n",
    "1. Click the **Add Visualization** button, located beneath the Refresh Schedule button in the bottom right-hand corner of the query window\n",
    "1. Click on the name (should default to something like **`Visualization 1`**) and change the name to **Total User Records**\n",
    "1. Set **`user_id`** for the **X Column**\n",
    "1. Set **`total_records`** for the **Y Columns**\n",
    "1. Click **Save**"
   ]
  },
  {
   "cell_type": "markdown",
   "metadata": {
    "application/vnd.databricks.v1+cell": {
     "cellMetadata": {},
     "inputWidgets": {},
     "nuid": "a924998a-fa02-4af2-85ee-157734e2b334",
     "showTitle": false,
     "title": ""
    }
   },
   "source": [
    "## Create a New Dashboard\n",
    "\n",
    "Steps:\n",
    "1. Click the button with three vertical dots at the bottom of the screen and select **Add to Dashboard**.\n",
    "1. Click the **Create new dashboard** option\n",
    "1. Name your dashboard <strong>User Ping Summary **`<your_initials_here>`**</strong>\n",
    "1. Click **Save** to create the new dashboard\n",
    "1. Your newly created dashboard should now be selected as the target; click **OK** to add your visualization"
   ]
  },
  {
   "cell_type": "markdown",
   "metadata": {
    "application/vnd.databricks.v1+cell": {
     "cellMetadata": {},
     "inputWidgets": {},
     "nuid": "24553300-1a1f-4a7d-b49d-284cf54c48a7",
     "showTitle": false,
     "title": ""
    }
   },
   "source": [
    "## Create a Query to Calculate the Recent Average Ping\n",
    "Steps:\n",
    "1. Execute the cell below to print out the formatted SQL query.\n",
    "1. Save this query with the name **Avg Ping**.\n",
    "1. Run the query to calculate the current results."
   ]
  },
  {
   "cell_type": "code",
   "execution_count": 0,
   "metadata": {
    "application/vnd.databricks.v1+cell": {
     "cellMetadata": {},
     "inputWidgets": {},
     "nuid": "7f011825-9111-4dcf-9073-6a88537036e0",
     "showTitle": false,
     "title": ""
    }
   },
   "outputs": [],
   "source": [
    "DA.generate_avg_ping()"
   ]
  },
  {
   "cell_type": "markdown",
   "metadata": {
    "application/vnd.databricks.v1+cell": {
     "cellMetadata": {},
     "inputWidgets": {},
     "nuid": "311ebb23-e932-4f69-bf0f-da2450bb613a",
     "showTitle": false,
     "title": ""
    }
   },
   "source": [
    "## Add a Line Plot Visualization to your Dashboard\n",
    "\n",
    "Steps:\n",
    "1. Click the **Add Visualization** button\n",
    "1. Click on the name (should default to something like **`Visualization 1`**) and change the name to **Avg User Ping**\n",
    "1. Select **`Line`** for the **Visualization Type**\n",
    "1. Set **`end_time`** for the **X Column**\n",
    "1. Set **`avg_ping`** for the **Y Columns**\n",
    "1. Set **`user_id`** for the **Group by**\n",
    "1. Click **Save**\n",
    "1. Click the button with three vertical dots at the bottom of the screen and select **Add to Dashboard**.\n",
    "1. Select the dashboard you created earlier\n",
    "1. Click **OK** to add your visualization"
   ]
  },
  {
   "cell_type": "markdown",
   "metadata": {
    "application/vnd.databricks.v1+cell": {
     "cellMetadata": {},
     "inputWidgets": {},
     "nuid": "80f27d7d-1474-44c3-bebc-b7120d0a62f8",
     "showTitle": false,
     "title": ""
    }
   },
   "source": [
    "## Create a Query to Report Summary Statistics\n",
    "Steps:\n",
    "1. Execute the cell below.\n",
    "1. Save this query with the name **Ping Summary**.\n",
    "1. Run the query to calculate the current results."
   ]
  },
  {
   "cell_type": "code",
   "execution_count": 0,
   "metadata": {
    "application/vnd.databricks.v1+cell": {
     "cellMetadata": {},
     "inputWidgets": {},
     "nuid": "7c0847d9-4d12-4d5f-a1bb-a76f9e3a8bba",
     "showTitle": false,
     "title": ""
    }
   },
   "outputs": [],
   "source": [
    "DA.generate_summary()"
   ]
  },
  {
   "cell_type": "markdown",
   "metadata": {
    "application/vnd.databricks.v1+cell": {
     "cellMetadata": {},
     "inputWidgets": {},
     "nuid": "6d460a28-0733-4960-9fdc-552df1faffd1",
     "showTitle": false,
     "title": ""
    }
   },
   "source": [
    "## Add the Summary Table to your Dashboard\n",
    "\n",
    "Steps:\n",
    "1. Click the button with three vertical dots at the bottom of the screen and select **Add to Dashboard**.\n",
    "1. Select the dashboard you created earlier\n",
    "1. Click **OK** to add your visualization"
   ]
  },
  {
   "cell_type": "markdown",
   "metadata": {
    "application/vnd.databricks.v1+cell": {
     "cellMetadata": {},
     "inputWidgets": {},
     "nuid": "052b44ac-64e8-4da0-a979-1e4bb535a492",
     "showTitle": false,
     "title": ""
    }
   },
   "source": [
    "## Review and Refresh your Dashboard\n",
    "\n",
    "Steps:\n",
    "1. Use the left side bar to navigate to **Dashboards**\n",
    "1. Find the dashboard you've added your queries to\n",
    "1. Click the blue **Refresh** button to update your dashboard\n",
    "1. Click the **Schedule** button to review dashboard scheduling options\n",
    "  * Note that scheduling a dashboard to update will execute all queries associated with that dashboard\n",
    "  * Do not schedule the dashboard at this time"
   ]
  },
  {
   "cell_type": "markdown",
   "metadata": {
    "application/vnd.databricks.v1+cell": {
     "cellMetadata": {},
     "inputWidgets": {},
     "nuid": "7b44a4ea-407d-4355-a457-ce4ae296211a",
     "showTitle": false,
     "title": ""
    }
   },
   "source": [
    "## Share your Dashboard\n",
    "\n",
    "Steps:\n",
    "1. Click the blue **Share** button\n",
    "1. Select **All Users** from the top field\n",
    "1. Choose **Can Run** from the right field\n",
    "1. Click **Add**\n",
    "1. Change the **Credentials** to **Run as viewer**\n",
    "\n",
    "**NOTE**: At present, no other users should have any permissions to run your dashboard, as they have not been granted permissions to the underlying databases and tables using Table ACLs. If you wish other users to be able to trigger updates to your dashboard, you will either need to grant them permissions to **Run as owner** or add permissions for the tables referenced in your queries."
   ]
  },
  {
   "cell_type": "markdown",
   "metadata": {
    "application/vnd.databricks.v1+cell": {
     "cellMetadata": {},
     "inputWidgets": {},
     "nuid": "a0132367-243d-4b26-822d-73fc827ae62e",
     "showTitle": false,
     "title": ""
    }
   },
   "source": [
    "## Set Up an Alert\n",
    "\n",
    "Steps:\n",
    "1. Use the left side bar to navigate to **Alerts**\n",
    "1. Click **Create Alert** in the top right\n",
    "1. Select your **User Counts** query\n",
    "1. Click the field at the top left of the screen to give the alert a name **`<your_initials> Count Check`**\n",
    "1. For the **Trigger when** options, configure:\n",
    "  * **Value column**: **`total_records`**\n",
    "  * **Condition**: **`>`**\n",
    "  * **Threshold**: **`15`**\n",
    "1. For **Refresh**, select **Never**\n",
    "1. Click **Create Alert**\n",
    "1. On the next screen, click the blue **Refresh** in the top right to evaluate the alert"
   ]
  },
  {
   "cell_type": "markdown",
   "metadata": {
    "application/vnd.databricks.v1+cell": {
     "cellMetadata": {},
     "inputWidgets": {},
     "nuid": "93f50653-4e97-41d8-91d2-04a39373d9af",
     "showTitle": false,
     "title": ""
    }
   },
   "source": [
    "## Review Alert Destination Options\n",
    "\n",
    "\n",
    "\n",
    "Steps:\n",
    "1. From the preview of your alert, click the blue **Add** button to the right of **Destinations** on the right side of the screen\n",
    "1. At the bottom of the window that pops up, locate the and click the blue text in the message **Create new destinations in Alert Destinations**\n",
    "1. Review the available alerting options"
   ]
  },
  {
   "cell_type": "code",
   "execution_count": 0,
   "metadata": {
    "application/vnd.databricks.v1+cell": {
     "cellMetadata": {},
     "inputWidgets": {},
     "nuid": "b40004a6-82b3-495a-b95f-a8ecca782c60",
     "showTitle": false,
     "title": ""
    }
   },
   "outputs": [],
   "source": [
    "DA.cleanup()"
   ]
  },
  {
   "cell_type": "markdown",
   "metadata": {
    "application/vnd.databricks.v1+cell": {
     "cellMetadata": {},
     "inputWidgets": {},
     "nuid": "6015ccd2-0fc3-4bcc-a8cc-f8943c80b11c",
     "showTitle": false,
     "title": ""
    }
   },
   "source": [
    "-sandbox\n",
    "&copy; 2022 Databricks, Inc. All rights reserved.<br/>\n",
    "Apache, Apache Spark, Spark and the Spark logo are trademarks of the <a href=\"https://www.apache.org/\">Apache Software Foundation</a>.<br/>\n",
    "<br/>\n",
    "<a href=\"https://databricks.com/privacy-policy\">Privacy Policy</a> | <a href=\"https://databricks.com/terms-of-use\">Terms of Use</a> | <a href=\"https://help.databricks.com/\">Support</a>"
   ]
  }
 ],
 "metadata": {
  "application/vnd.databricks.v1+notebook": {
   "dashboards": [],
   "language": "python",
   "notebookMetadata": {
    "pythonIndentUnit": 2
   },
   "notebookName": "DE 5.4 - OPTIONAL Last Mile ETL with DBSQL",
   "widgets": {}
  }
 },
 "nbformat": 4,
 "nbformat_minor": 0
}
