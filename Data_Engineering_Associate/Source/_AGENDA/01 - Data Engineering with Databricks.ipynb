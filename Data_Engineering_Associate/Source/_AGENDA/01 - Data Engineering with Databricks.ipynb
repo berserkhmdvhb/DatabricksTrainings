{
 "cells": [
  {
   "cell_type": "markdown",
   "metadata": {
    "application/vnd.databricks.v1+cell": {
     "cellMetadata": {},
     "inputWidgets": {},
     "nuid": "2bbeb347-a68b-481a-b4b8-4c62ed110655",
     "showTitle": false,
     "title": ""
    }
   },
   "source": [
    "-sandbox\n",
    "\n",
    "<div style=\"text-align: center; line-height: 0; padding-top: 9px;\">\n",
    "  <img src=\"https://databricks.com/wp-content/uploads/2018/03/db-academy-rgb-1200px.png\" alt=\"Databricks Learning\" style=\"width: 600px\">\n",
    "</div>"
   ]
  },
  {
   "cell_type": "markdown",
   "metadata": {
    "application/vnd.databricks.v1+cell": {
     "cellMetadata": {},
     "inputWidgets": {},
     "nuid": "69d86029-ae96-4858-ac2e-605fbbc063d1",
     "showTitle": false,
     "title": ""
    }
   },
   "source": [
    "# Data Engineering with Databricks\n",
    "\n",
    "The Data Engineering with Databricks (DEWD) course is designed to prepare students for the Databricks Certified Associate Data Engineer certification exam. The content for this course consists of the Associate-level modules of the Data Engineer Learning Path, and can be delivered as an instructor-led training (ILT) or self-paced (SP) course.\n",
    "\n",
    "## Course Agenda\n",
    "The following modules are part of the Data Engineer Learning Path by Databricks Academy.\n",
    "| Folder | Module Name |\n",
    "| --- | --- |\n",
    "| 01 - Databricks Workspace | Get Started with Databricks Data Science and Data Engineering Workspace |\n",
    "| 02 - ETL with Spark | Transform Data with Spark (Spark SQL / PySpark) |\n",
    "| 03 - Delta Lake | Manage Data with Delta Lake |\n",
    "| 04 - Delta Live Tables | Build Data Pipelines with Delta Live Tables (Spark SQL / PySpark) |\n",
    "| 05 - Workflow Jobs | Deploy Workloads with Databricks Workflows |\n",
    "| 06 - Managing Permissions | Manage Data Access for Analytics with Unity Catalog |"
   ]
  },
  {
   "cell_type": "markdown",
   "metadata": {
    "application/vnd.databricks.v1+cell": {
     "cellMetadata": {},
     "inputWidgets": {},
     "nuid": "8e5b1890-2e0f-4437-951e-56f288d8bf59",
     "showTitle": false,
     "title": ""
    }
   },
   "source": [
    "-sandbox\n",
    "&copy; 2022 Databricks, Inc. All rights reserved.<br/>\n",
    "Apache, Apache Spark, Spark and the Spark logo are trademarks of the <a href=\"https://www.apache.org/\">Apache Software Foundation</a>.<br/>\n",
    "<br/>\n",
    "<a href=\"https://databricks.com/privacy-policy\">Privacy Policy</a> | <a href=\"https://databricks.com/terms-of-use\">Terms of Use</a> | <a href=\"https://help.databricks.com/\">Support</a>"
   ]
  }
 ],
 "metadata": {
  "application/vnd.databricks.v1+notebook": {
   "dashboards": [],
   "language": "python",
   "notebookMetadata": {
    "pythonIndentUnit": 2
   },
   "notebookName": "01 - Data Engineering with Databricks",
   "widgets": {}
  }
 },
 "nbformat": 4,
 "nbformat_minor": 0
}
