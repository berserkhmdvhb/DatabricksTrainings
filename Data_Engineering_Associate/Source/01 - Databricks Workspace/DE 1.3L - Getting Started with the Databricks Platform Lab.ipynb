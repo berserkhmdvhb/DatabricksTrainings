{
 "cells": [
  {
   "cell_type": "markdown",
   "metadata": {
    "application/vnd.databricks.v1+cell": {
     "cellMetadata": {},
     "inputWidgets": {},
     "nuid": "0370da1f-8e1f-442d-8759-3fb8b84d6271",
     "showTitle": false,
     "title": ""
    }
   },
   "source": [
    "-sandbox\n",
    "\n",
    "<div style=\"text-align: center; line-height: 0; padding-top: 9px;\">\n",
    "  <img src=\"https://databricks.com/wp-content/uploads/2018/03/db-academy-rgb-1200px.png\" alt=\"Databricks Learning\" style=\"width: 600px\">\n",
    "</div>"
   ]
  },
  {
   "cell_type": "markdown",
   "metadata": {
    "application/vnd.databricks.v1+cell": {
     "cellMetadata": {},
     "inputWidgets": {},
     "nuid": "55c99f99-5646-45a0-8d78-01757dcb84fe",
     "showTitle": false,
     "title": ""
    }
   },
   "source": [
    "# Getting Started with the Databricks Platform\n",
    "\n",
    "This notebook provides a hands-on review of some of the basic functionality of the Databricks Data Science and Engineering Workspace.\n",
    "\n",
    "## Learning Objectives\n",
    "By the end of this lab, you should be able to:\n",
    "- Rename a notebook and change the default language\n",
    "- Attach a cluster\n",
    "- Use the **`%run`** magic command\n",
    "- Run Python and SQL cells\n",
    "- Create a Markdown cell"
   ]
  },
  {
   "cell_type": "markdown",
   "metadata": {
    "application/vnd.databricks.v1+cell": {
     "cellMetadata": {},
     "inputWidgets": {},
     "nuid": "78f005b4-0754-46d8-8dd4-d31f3ead9277",
     "showTitle": false,
     "title": ""
    }
   },
   "source": [
    "# Renaming a Notebook\n",
    "\n",
    "Changing the name of a notebook is easy. Click on the name at the top of this page, then make changes to the name. To make it easier to navigate back to this notebook later in case you need to, append a short test string to the end of the existing name."
   ]
  },
  {
   "cell_type": "markdown",
   "metadata": {
    "application/vnd.databricks.v1+cell": {
     "cellMetadata": {},
     "inputWidgets": {},
     "nuid": "62534e1d-72de-4a7a-a82d-e757e449be6a",
     "showTitle": false,
     "title": ""
    }
   },
   "source": [
    "# Attaching a cluster\n",
    "\n",
    "Executing cells in a notebook requires computing resources, which is provided by clusters. The first time you execute a cell in a notebook, you will be prompted to attach to a cluster if one is not already attached.\n",
    "\n",
    "Attach a cluster to this notebook now by clicking the dropdown near the top-right corner of this page. Select the cluster you created previously. This will clear the execution state of the notebook and connect the notebook to the selected cluster.\n",
    "\n",
    "Note that the dropdown menu provides the option of starting or restarting the cluster as needed. You can also detach and re-attach to a cluster in a single operation. This is useful for clearing the execution state when needed."
   ]
  },
  {
   "cell_type": "markdown",
   "metadata": {
    "application/vnd.databricks.v1+cell": {
     "cellMetadata": {},
     "inputWidgets": {},
     "nuid": "434af0d7-b0a1-41b8-8ccd-18bd26793f0c",
     "showTitle": false,
     "title": ""
    }
   },
   "source": [
    "# Using %run\n",
    "\n",
    "Complex projects of any type can benefit from the ability to break them down into simpler, reusable components.\n",
    "\n",
    "In the context of Databricks notebooks, this facility is provided through the **`%run`** magic command.\n",
    "\n",
    "When used this way, variables, functions and code blocks become part of the current programming context.\n",
    "\n",
    "Consider this example:\n",
    "\n",
    "**`Notebook_A`** has four commands:\n",
    "  1. **`name = \"John\"`**\n",
    "  2. **`print(f\"Hello {name}\")`**\n",
    "  3. **`%run ./Notebook_B`**\n",
    "  4. **`print(f\"Welcome back {full_name}`**\n",
    "\n",
    "**`Notebook_B`** has only one commands:\n",
    "  1. **`full_name = f\"{name} Doe\"`**\n",
    "\n",
    "If we run **`Notebook_B`** it will fail to execute because the variable **`name`** is not defined in **`Notebook_B`**\n",
    "\n",
    "Likewise, one might think that **`Notebook_A`** would fail becase it uses the variable **`full_name`** which is likewise not defined in **`Notebook_A`**, but it doesn't!\n",
    "\n",
    "What actually happens is that the two notebooks are merged together as we see below and **then** executed:\n",
    "1. **`name = \"John\"`**\n",
    "2. **`print(f\"Hello {name}\")`**\n",
    "3. **`full_name = f\"{name} Doe\"`**\n",
    "4. **`print(f\"Welcome back {full_name}\")`**\n",
    "\n",
    "And thus providing the expected behavior:\n",
    "* **`Hello John`**\n",
    "* **`Welcome back John Doe`**"
   ]
  },
  {
   "cell_type": "markdown",
   "metadata": {
    "application/vnd.databricks.v1+cell": {
     "cellMetadata": {},
     "inputWidgets": {},
     "nuid": "8e6fcb13-ae9b-4c0c-87b2-13b5a7239def",
     "showTitle": false,
     "title": ""
    }
   },
   "source": [
    "The folder that contains this notebook contains a subfolder named **`ExampleSetupFolder`**, which in turn contains a notebook called **`example-setup`**. \n",
    "\n",
    "This simple notebook declares the variable **`my_name`**, sets it to **`None`**, and then creates a DataFrame called **`example_df`**. \n",
    "\n",
    "Open the **`example-setup`** notebook and modify it so that **`my_name`** is not **`None`** but rather your name (or anyone's name) enclosed in quotes, and so that the following two cells execute without throwing an **`AssertionError`**.\n",
    "\n",
    "<img src=\"https://files.training.databricks.com/images/icon_note_24.png\"> You will see additional references **`_utility-methods`** and **`DBAcademyHelper`** which are used to this configure  courseware and should be ignored for this exercise."
   ]
  },
  {
   "cell_type": "code",
   "execution_count": 0,
   "metadata": {
    "application/vnd.databricks.v1+cell": {
     "cellMetadata": {},
     "inputWidgets": {},
     "nuid": "a9c49006-b816-4711-b6a5-3b7caba7e0bc",
     "showTitle": false,
     "title": ""
    }
   },
   "outputs": [],
   "source": [
    "%run ./ExampleSetupFolder/example-setup"
   ]
  },
  {
   "cell_type": "code",
   "execution_count": 0,
   "metadata": {
    "application/vnd.databricks.v1+cell": {
     "cellMetadata": {},
     "inputWidgets": {},
     "nuid": "f1923d9e-590d-4b5b-9186-77b1cc4a804b",
     "showTitle": false,
     "title": ""
    }
   },
   "outputs": [],
   "source": [
    "assert my_name is not None, \"Name is still None\"\n",
    "print(my_name)"
   ]
  },
  {
   "cell_type": "markdown",
   "metadata": {
    "application/vnd.databricks.v1+cell": {
     "cellMetadata": {},
     "inputWidgets": {},
     "nuid": "27d1f4ab-1496-44e5-98e7-301b41d9a844",
     "showTitle": false,
     "title": ""
    }
   },
   "source": [
    "## Run a Python cell\n",
    "\n",
    "Run the following cell to verify that the **`example-setup`** notebook was executed by displaying the **`example_df`** DataFrame. This table consists of 16 rows of increasing values."
   ]
  },
  {
   "cell_type": "code",
   "execution_count": 0,
   "metadata": {
    "application/vnd.databricks.v1+cell": {
     "cellMetadata": {},
     "inputWidgets": {},
     "nuid": "4782f225-1d58-4712-8d4e-4453ddb560a6",
     "showTitle": false,
     "title": ""
    }
   },
   "outputs": [],
   "source": [
    "display(example_df)"
   ]
  },
  {
   "cell_type": "markdown",
   "metadata": {
    "application/vnd.databricks.v1+cell": {
     "cellMetadata": {},
     "inputWidgets": {},
     "nuid": "d66bb1e8-b20a-469e-b232-9384171414d3",
     "showTitle": false,
     "title": ""
    }
   },
   "source": [
    "# Change Language\n",
    "\n",
    "Notice that the default language for this notebook is set to Python. Change this by clicking the **Python** button to the right of the notebook name. Change the default language to SQL.\n",
    "\n",
    "Notice that the Python cells are automatically prepended with a <strong><code>&#37;python</code></strong> magic command to maintain validity of those cells. Notice that this operation also clears the execution state."
   ]
  },
  {
   "cell_type": "markdown",
   "metadata": {
    "application/vnd.databricks.v1+cell": {
     "cellMetadata": {},
     "inputWidgets": {},
     "nuid": "9c1c3243-ea7f-4f77-bcd6-689deddb306d",
     "showTitle": false,
     "title": ""
    }
   },
   "source": [
    "# Create a Markdown Cell\n",
    "\n",
    "Add a new cell below this one. Populate with some Markdown that includes at least the following elements:\n",
    "* A header\n",
    "* Bullet points\n",
    "* A link (using your choice of HTML or Markdown conventions)"
   ]
  },
  {
   "cell_type": "markdown",
   "metadata": {
    "application/vnd.databricks.v1+cell": {
     "cellMetadata": {},
     "inputWidgets": {},
     "nuid": "7a887d5c-e5fb-449f-8638-1725c585e4cf",
     "showTitle": false,
     "title": ""
    }
   },
   "source": [
    "## Run a SQL cell\n",
    "\n",
    "Run the following cell to query a Delta table using SQL. This executes a simple query against a table is backed by a Databricks-provided example dataset included in all DBFS installations."
   ]
  },
  {
   "cell_type": "code",
   "execution_count": 0,
   "metadata": {
    "application/vnd.databricks.v1+cell": {
     "cellMetadata": {},
     "inputWidgets": {},
     "nuid": "fe6cc9c9-b899-4c44-a8bd-30035f23d93f",
     "showTitle": false,
     "title": ""
    }
   },
   "outputs": [],
   "source": [
    "files = dbutils.fs.ls(f\"{DA.paths.datasets}/nyctaxi-with-zipcodes/data\")\n",
    "display(files)"
   ]
  },
  {
   "cell_type": "code",
   "execution_count": 0,
   "metadata": {
    "application/vnd.databricks.v1+cell": {
     "cellMetadata": {},
     "inputWidgets": {},
     "nuid": "dcc92840-0209-4482-8b36-819bbc255b94",
     "showTitle": false,
     "title": ""
    }
   },
   "outputs": [],
   "source": [
    "%sql\n",
    "SELECT * FROM delta.`${DA.paths.datasets}/nyctaxi-with-zipcodes/data`"
   ]
  },
  {
   "cell_type": "markdown",
   "metadata": {
    "application/vnd.databricks.v1+cell": {
     "cellMetadata": {},
     "inputWidgets": {},
     "nuid": "20115af2-9f6d-4abb-bc40-9c95beb5fe21",
     "showTitle": false,
     "title": ""
    }
   },
   "source": [
    "Execute the following cell to view the underlying files backing this table."
   ]
  },
  {
   "cell_type": "code",
   "execution_count": 0,
   "metadata": {
    "application/vnd.databricks.v1+cell": {
     "cellMetadata": {},
     "inputWidgets": {},
     "nuid": "222e4d01-378d-498b-937e-7e03595c8bd0",
     "showTitle": false,
     "title": ""
    }
   },
   "outputs": [],
   "source": [
    "files = dbutils.fs.ls(f\"{DA.paths.datasets}/nyctaxi-with-zipcodes/data\")\n",
    "display(files)"
   ]
  },
  {
   "cell_type": "markdown",
   "metadata": {
    "application/vnd.databricks.v1+cell": {
     "cellMetadata": {},
     "inputWidgets": {},
     "nuid": "c648de9f-7245-4a49-828d-8540336a98ad",
     "showTitle": false,
     "title": ""
    }
   },
   "source": [
    "# Clearing notebook state\n",
    "\n",
    "Sometimes it is useful to clear all variables defined in the notebook and start from the begining.  This can be useful when you want to test cells in isolation, or you simply want to reset the execution state.\n",
    "\n",
    "Visit the **Run** menu and select the **Clear state and outputs**.\n",
    "\n",
    "Now try running the cell below and notice the variables defined earlier are no longer defined, until you rerun the earlier cells above."
   ]
  },
  {
   "cell_type": "code",
   "execution_count": 0,
   "metadata": {
    "application/vnd.databricks.v1+cell": {
     "cellMetadata": {},
     "inputWidgets": {},
     "nuid": "9af6c318-48d2-44f0-89fa-6fd5314f7c9d",
     "showTitle": false,
     "title": ""
    }
   },
   "outputs": [],
   "source": [
    "print(my_name)"
   ]
  },
  {
   "cell_type": "markdown",
   "metadata": {
    "application/vnd.databricks.v1+cell": {
     "cellMetadata": {},
     "inputWidgets": {},
     "nuid": "30f70a10-ddc3-4458-8757-ebcc2fca8b1c",
     "showTitle": false,
     "title": ""
    }
   },
   "source": [
    "# Review Changes\n",
    "\n",
    "Assuming you have imported this material into your workspace using a Databricks Repo, open the Repo dialog by clicking the **`published`** branch button at the top-left corner of this page. You should see three changes:\n",
    "1. **Removed** with the old notebook name\n",
    "1. **Added** with the new notebook name\n",
    "1. **Modified** for creating a markdown cell above\n",
    "\n",
    "Use the dialog to revert the changes and restore this notebook to its original state."
   ]
  },
  {
   "cell_type": "markdown",
   "metadata": {
    "application/vnd.databricks.v1+cell": {
     "cellMetadata": {},
     "inputWidgets": {},
     "nuid": "83d683ea-931f-4fda-808d-11d09493632d",
     "showTitle": false,
     "title": ""
    }
   },
   "source": [
    "## Wrapping Up\n",
    "\n",
    "By completing this lab, you should now feel comfortable manipulating notebooks, creating new cells, and running notebooks within notebooks."
   ]
  },
  {
   "cell_type": "markdown",
   "metadata": {
    "application/vnd.databricks.v1+cell": {
     "cellMetadata": {},
     "inputWidgets": {},
     "nuid": "17a01174-b9b9-47d3-890f-98ead69e610a",
     "showTitle": false,
     "title": ""
    }
   },
   "source": [
    "-sandbox\n",
    "&copy; 2022 Databricks, Inc. All rights reserved.<br/>\n",
    "Apache, Apache Spark, Spark and the Spark logo are trademarks of the <a href=\"https://www.apache.org/\">Apache Software Foundation</a>.<br/>\n",
    "<br/>\n",
    "<a href=\"https://databricks.com/privacy-policy\">Privacy Policy</a> | <a href=\"https://databricks.com/terms-of-use\">Terms of Use</a> | <a href=\"https://help.databricks.com/\">Support</a>"
   ]
  }
 ],
 "metadata": {
  "application/vnd.databricks.v1+notebook": {
   "dashboards": [],
   "language": "python",
   "notebookMetadata": {
    "pythonIndentUnit": 2
   },
   "notebookName": "DE 1.3L - Getting Started with the Databricks Platform Lab",
   "widgets": {}
  }
 },
 "nbformat": 4,
 "nbformat_minor": 0
}
