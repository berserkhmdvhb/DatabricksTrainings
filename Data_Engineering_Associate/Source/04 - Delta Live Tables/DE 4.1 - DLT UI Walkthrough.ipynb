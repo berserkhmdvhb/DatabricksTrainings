{
 "cells": [
  {
   "cell_type": "markdown",
   "metadata": {
    "application/vnd.databricks.v1+cell": {
     "cellMetadata": {
      "byteLimit": 2048000,
      "rowLimit": 10000
     },
     "inputWidgets": {},
     "nuid": "0bf70ec2-eab2-45b1-8bf1-90addd998976",
     "showTitle": false,
     "title": ""
    }
   },
   "source": [
    "-sandbox\n",
    "\n",
    "<div style=\"text-align: center; line-height: 0; padding-top: 9px;\">\n",
    "  <img src=\"https://databricks.com/wp-content/uploads/2018/03/db-academy-rgb-1200px.png\" alt=\"Databricks Learning\" style=\"width: 600px\">\n",
    "</div>"
   ]
  },
  {
   "cell_type": "markdown",
   "metadata": {
    "application/vnd.databricks.v1+cell": {
     "cellMetadata": {
      "byteLimit": 2048000,
      "rowLimit": 10000
     },
     "inputWidgets": {},
     "nuid": "3891eecd-b881-4e8b-bda6-0c1d9fdc69bf",
     "showTitle": false,
     "title": ""
    }
   },
   "source": [
    "# Using the Delta Live Tables UI\n",
    "\n",
    "This demo will explore the DLT UI. By the end of this lesson you will be able to: \n",
    "\n",
    "* Deploy a DLT pipeline\n",
    "* Explore the resultant DAG\n",
    "* Execute an update of the pipeline"
   ]
  },
  {
   "cell_type": "markdown",
   "metadata": {
    "application/vnd.databricks.v1+cell": {
     "cellMetadata": {
      "byteLimit": 2048000,
      "rowLimit": 10000
     },
     "inputWidgets": {},
     "nuid": "272bb9d6-4f3b-4eeb-a2e1-0306fc1eed13",
     "showTitle": false,
     "title": ""
    }
   },
   "source": [
    "## Classroom Setup\n",
    "\n",
    "Run the following cell to configure your working environment for this course."
   ]
  },
  {
   "cell_type": "code",
   "execution_count": 0,
   "metadata": {
    "application/vnd.databricks.v1+cell": {
     "cellMetadata": {
      "byteLimit": 2048000,
      "rowLimit": 10000
     },
     "inputWidgets": {},
     "nuid": "ea337e2a-0959-4442-b3a9-994b230e5b99",
     "showTitle": false,
     "title": ""
    }
   },
   "outputs": [
    {
     "output_type": "stream",
     "name": "stdout",
     "output_type": "stream",
     "text": [
      "Resetting the learning environment:\n| dropping the schema \"hamed_vaheb_jcxq_da_delp_pipeline_demo\"...(1 seconds)\n| removing the working directory \"dbfs:/mnt/dbacademy-users/hamed.vaheb@pwc.lu/data-engineer-learning-path/pipeline_demo\"...(0 seconds)\n\nSkipping install of existing datasets to \"dbfs:/mnt/dbacademy-datasets/data-engineer-learning-path/v01\"\n\nValidating the locally installed datasets:\n| listing local files...(1 seconds)\n| completed (1 seconds total)\n\nCreating & using the schema \"hamed_vaheb_jcxq_da_delp_pipeline_demo\"...(0 seconds)\nLoading batch 1 of 31...1 seconds\nPredefined tables in \"hamed_vaheb_jcxq_da_delp_pipeline_demo\":\n| -none-\n\nPredefined paths variables:\n| DA.paths.working_dir:      dbfs:/mnt/dbacademy-users/hamed.vaheb@pwc.lu/data-engineer-learning-path/pipeline_demo\n| DA.paths.user_db:          dbfs:/mnt/dbacademy-users/hamed.vaheb@pwc.lu/data-engineer-learning-path/pipeline_demo/database.db\n| DA.paths.datasets:         dbfs:/mnt/dbacademy-datasets/data-engineer-learning-path/v01\n| DA.paths.storage_location: dbfs:/mnt/dbacademy-users/hamed.vaheb@pwc.lu/data-engineer-learning-path/pipeline_demo/storage_location\n| DA.paths.stream_source:    dbfs:/mnt/dbacademy-users/hamed.vaheb@pwc.lu/data-engineer-learning-path/pipeline_demo/stream-source\n\nSetup completed (3 seconds)\n"
     ]
    }
   ],
   "source": [
    "%run ../Includes/Classroom-Setup-04.1"
   ]
  },
  {
   "cell_type": "markdown",
   "metadata": {
    "application/vnd.databricks.v1+cell": {
     "cellMetadata": {
      "byteLimit": 2048000,
      "rowLimit": 10000
     },
     "inputWidgets": {},
     "nuid": "5a2a9506-36ae-4d9b-aa8c-21845fa96772",
     "showTitle": false,
     "title": ""
    }
   },
   "source": [
    "## Generate Pipeline Configuration\n",
    "The configuration of your pipeline includes parameters unique to a given user.\n",
    "\n",
    "You will need to specify which language to use by uncommenting the appropriate line.\n",
    "\n",
    "Run the following cell to print out the values used to configure your pipeline in subsequent steps."
   ]
  },
  {
   "cell_type": "code",
   "execution_count": 0,
   "metadata": {
    "application/vnd.databricks.v1+cell": {
     "cellMetadata": {
      "byteLimit": 2048000,
      "rowLimit": 10000
     },
     "inputWidgets": {},
     "nuid": "f1d023fa-c2b4-4507-84eb-40e85b778f75",
     "showTitle": false,
     "title": ""
    }
   },
   "outputs": [
    {
     "output_type": "stream",
     "name": "stdout",
     "output_type": "stream",
     "text": [
      "Help on method print_pipeline_config in module __main__:\n\nprint_pipeline_config(language) method of dbacademy.dbhelper.dbacademy_helper_class.DBAcademyHelper instance\n    Provided by DBAcademy, this function renders the configuration of the pipeline as HTML\n\n"
     ]
    }
   ],
   "source": [
    "help(DA.print_pipeline_config)"
   ]
  },
  {
   "cell_type": "code",
   "execution_count": 0,
   "metadata": {
    "application/vnd.databricks.v1+cell": {
     "cellMetadata": {
      "byteLimit": 2048000,
      "rowLimit": 10000
     },
     "inputWidgets": {},
     "nuid": "3623a7d8-062f-47e8-a14d-e592d806a885",
     "showTitle": false,
     "title": ""
    }
   },
   "outputs": [
    {
     "output_type": "display_data",
     "data": {
      "text/html": [
       "<table style=\"width:100%\">\n",
       "    <tr>\n",
       "        <td style=\"white-space:nowrap; width:1em\">Pipeline Name:</td>\n",
       "        <td><input type=\"text\" value=\"hamed.vaheb-jcxq-da-delp-pipeline_demo: Example Pipeline\" style=\"width: 100%\"></td></tr>\n",
       "    <tr>\n",
       "        <td style=\"white-space:nowrap; width:1em\">Source:</td>\n",
       "        <td><input type=\"text\" value=\"dbfs:/mnt/dbacademy-users/hamed.vaheb@pwc.lu/data-engineer-learning-path/pipeline_demo/stream-source\" style=\"width: 100%\"></td></tr>\n",
       "\n",
       "        <td style=\"white-space:nowrap; width:1em\">Target:</td>\n",
       "        <td><input type=\"text\" value=\"hamed_vaheb_jcxq_da_delp_pipeline_demo\" style=\"width: 100%\"></td></tr>\n",
       "    <tr>\n",
       "        <td style=\"white-space:nowrap; width:1em\">Storage Location:</td>\n",
       "        <td><input type=\"text\" value=\"dbfs:/mnt/dbacademy-users/hamed.vaheb@pwc.lu/data-engineer-learning-path/pipeline_demo/storage_location\" style=\"width: 100%\"></td></tr>\n",
       "    <tr>\n",
       "        <td style=\"white-space:nowrap; width:1em\">Policy:</td>\n",
       "        <td><input type=\"text\" value=\"DBAcademy DLT-Only Policy\" style=\"width: 100%\"></td></tr>\n",
       "    \n",
       "        <tr>\n",
       "            <td style=\"white-space:nowrap; width:1em\">Notebook #1 Path:</td>\n",
       "            <td><input type=\"text\" value=\"/Users/hamed.vaheb@pwc.lu/data-engineer-learning-path-v1-0-2-notebooks/04 - Delta Live Tables/DE 4.1A - SQL Pipelines/DE 4.1.1 - Orders Pipeline\" style=\"width: 100%\"></td></tr>\n",
       "        <tr>\n",
       "            <td style=\"white-space:nowrap; width:1em\">Notebook #2 Path:</td>\n",
       "            <td><input type=\"text\" value=\"/Users/hamed.vaheb@pwc.lu/data-engineer-learning-path-v1-0-2-notebooks/04 - Delta Live Tables/DE 4.1A - SQL Pipelines/DE 4.1.2 - Customers Pipeline\" style=\"width: 100%\"></td></tr>\n",
       "        <tr>\n",
       "            <td style=\"white-space:nowrap; width:1em\">Notebook #3 Path:</td>\n",
       "            <td><input type=\"text\" value=\"/Users/hamed.vaheb@pwc.lu/data-engineer-learning-path-v1-0-2-notebooks/04 - Delta Live Tables/DE 4.1A - SQL Pipelines/DE 4.1.3 - Status Pipeline\" style=\"width: 100%\"></td></tr></table>"
      ]
     },
     "metadata": {
      "application/vnd.databricks.v1+output": {
       "addedWidgets": {},
       "arguments": {},
       "data": "<table style=\"width:100%\">\n    <tr>\n        <td style=\"white-space:nowrap; width:1em\">Pipeline Name:</td>\n        <td><input type=\"text\" value=\"hamed.vaheb-jcxq-da-delp-pipeline_demo: Example Pipeline\" style=\"width: 100%\"></td></tr>\n    <tr>\n        <td style=\"white-space:nowrap; width:1em\">Source:</td>\n        <td><input type=\"text\" value=\"dbfs:/mnt/dbacademy-users/hamed.vaheb@pwc.lu/data-engineer-learning-path/pipeline_demo/stream-source\" style=\"width: 100%\"></td></tr>\n\n        <td style=\"white-space:nowrap; width:1em\">Target:</td>\n        <td><input type=\"text\" value=\"hamed_vaheb_jcxq_da_delp_pipeline_demo\" style=\"width: 100%\"></td></tr>\n    <tr>\n        <td style=\"white-space:nowrap; width:1em\">Storage Location:</td>\n        <td><input type=\"text\" value=\"dbfs:/mnt/dbacademy-users/hamed.vaheb@pwc.lu/data-engineer-learning-path/pipeline_demo/storage_location\" style=\"width: 100%\"></td></tr>\n    <tr>\n        <td style=\"white-space:nowrap; width:1em\">Policy:</td>\n        <td><input type=\"text\" value=\"DBAcademy DLT-Only Policy\" style=\"width: 100%\"></td></tr>\n    \n        <tr>\n            <td style=\"white-space:nowrap; width:1em\">Notebook #1 Path:</td>\n            <td><input type=\"text\" value=\"/Users/hamed.vaheb@pwc.lu/data-engineer-learning-path-v1-0-2-notebooks/04 - Delta Live Tables/DE 4.1A - SQL Pipelines/DE 4.1.1 - Orders Pipeline\" style=\"width: 100%\"></td></tr>\n        <tr>\n            <td style=\"white-space:nowrap; width:1em\">Notebook #2 Path:</td>\n            <td><input type=\"text\" value=\"/Users/hamed.vaheb@pwc.lu/data-engineer-learning-path-v1-0-2-notebooks/04 - Delta Live Tables/DE 4.1A - SQL Pipelines/DE 4.1.2 - Customers Pipeline\" style=\"width: 100%\"></td></tr>\n        <tr>\n            <td style=\"white-space:nowrap; width:1em\">Notebook #3 Path:</td>\n            <td><input type=\"text\" value=\"/Users/hamed.vaheb@pwc.lu/data-engineer-learning-path-v1-0-2-notebooks/04 - Delta Live Tables/DE 4.1A - SQL Pipelines/DE 4.1.3 - Status Pipeline\" style=\"width: 100%\"></td></tr></table>",
       "datasetInfos": [],
       "metadata": {},
       "removedWidgets": [],
       "textData": null,
       "type": "htmlSandbox"
      }
     },
     "output_type": "display_data"
    }
   ],
   "source": [
    "pipeline_language = \"SQL\"\n",
    "#pipeline_language = \"Python\"\n",
    "\n",
    "DA.print_pipeline_config(pipeline_language)"
   ]
  },
  {
   "cell_type": "code",
   "execution_count": 0,
   "metadata": {
    "application/vnd.databricks.v1+cell": {
     "cellMetadata": {
      "byteLimit": 2048000,
      "rowLimit": 10000
     },
     "inputWidgets": {},
     "nuid": "02da124a-ffee-4566-9e25-9dc872773d1e",
     "showTitle": false,
     "title": ""
    }
   },
   "outputs": [
    {
     "output_type": "display_data",
     "data": {
      "text/plain": [
       "\u001B[0;36m  File \u001B[0;32m\"<command-1240778539941924>\"\u001B[0;36m, line \u001B[0;32m1\u001B[0m\n",
       "\u001B[0;31m    print(${source}/order)\u001B[0m\n",
       "\u001B[0m          ^\u001B[0m\n",
       "\u001B[0;31mSyntaxError\u001B[0m\u001B[0;31m:\u001B[0m invalid syntax\n"
      ]
     },
     "metadata": {
      "application/vnd.databricks.v1+output": {
       "arguments": {},
       "data": "\u001B[0;36m  File \u001B[0;32m\"<command-1240778539941924>\"\u001B[0;36m, line \u001B[0;32m1\u001B[0m\n\u001B[0;31m    print(${source}/order)\u001B[0m\n\u001B[0m          ^\u001B[0m\n\u001B[0;31mSyntaxError\u001B[0m\u001B[0;31m:\u001B[0m invalid syntax\n",
       "errorSummary": "<span class='ansi-red-fg'>SyntaxError</span>: invalid syntax (<command-1240778539941924>, line 1)",
       "errorTraceType": "ansi",
       "metadata": {},
       "type": "ipynbError"
      }
     },
     "output_type": "display_data"
    }
   ],
   "source": [
    "%python\n",
    "print(${source}/order)"
   ]
  },
  {
   "cell_type": "code",
   "execution_count": 0,
   "metadata": {
    "application/vnd.databricks.v1+cell": {
     "cellMetadata": {
      "byteLimit": 2048000,
      "rowLimit": 10000
     },
     "inputWidgets": {},
     "nuid": "cfc7c507-d93a-4940-bc2b-349524dca2ac",
     "showTitle": false,
     "title": ""
    }
   },
   "outputs": [
    {
     "output_type": "display_data",
     "data": {
      "text/html": [
       "<style scoped>\n",
       "  .table-result-container {\n",
       "    max-height: 300px;\n",
       "    overflow: auto;\n",
       "  }\n",
       "  table, th, td {\n",
       "    border: 1px solid black;\n",
       "    border-collapse: collapse;\n",
       "  }\n",
       "  th, td {\n",
       "    padding: 5px;\n",
       "  }\n",
       "  th {\n",
       "    text-align: left;\n",
       "  }\n",
       "</style><div class='table-result-container'><table class='table-result'><thead style='background-color: white'><tr><th>path</th><th>name</th><th>size</th><th>modificationTime</th></tr></thead><tbody><tr><td>dbfs:/mnt/dbacademy-users/hamed.vaheb@pwc.lu/data-engineer-learning-path/pipeline_demo/database.db/</td><td>database.db/</td><td>0</td><td>1685712104000</td></tr><tr><td>dbfs:/mnt/dbacademy-users/hamed.vaheb@pwc.lu/data-engineer-learning-path/pipeline_demo/stream-source/</td><td>stream-source/</td><td>0</td><td>1685712105000</td></tr></tbody></table></div>"
      ]
     },
     "metadata": {
      "application/vnd.databricks.v1+output": {
       "addedWidgets": {},
       "aggData": [],
       "aggError": "",
       "aggOverflow": false,
       "aggSchema": [],
       "aggSeriesLimitReached": false,
       "aggType": "",
       "arguments": {},
       "columnCustomDisplayInfos": {},
       "data": [
        [
         "dbfs:/mnt/dbacademy-users/hamed.vaheb@pwc.lu/data-engineer-learning-path/pipeline_demo/database.db/",
         "database.db/",
         0,
         1685712104000
        ],
        [
         "dbfs:/mnt/dbacademy-users/hamed.vaheb@pwc.lu/data-engineer-learning-path/pipeline_demo/stream-source/",
         "stream-source/",
         0,
         1685712105000
        ]
       ],
       "datasetInfos": [],
       "dbfsResultPath": null,
       "isJsonSchema": true,
       "metadata": {},
       "overflow": false,
       "plotOptions": {
        "customPlotOptions": {},
        "displayType": "table",
        "pivotAggregation": null,
        "pivotColumns": null,
        "xColumns": null,
        "yColumns": null
       },
       "removedWidgets": [],
       "schema": [
        {
         "metadata": "{}",
         "name": "path",
         "type": "\"string\""
        },
        {
         "metadata": "{}",
         "name": "name",
         "type": "\"string\""
        },
        {
         "metadata": "{}",
         "name": "size",
         "type": "\"long\""
        },
        {
         "metadata": "{}",
         "name": "modificationTime",
         "type": "\"long\""
        }
       ],
       "type": "table"
      }
     },
     "output_type": "display_data"
    }
   ],
   "source": [
    "%python\n",
    "display(dbutils.fs.ls(\"dbfs:/mnt/dbacademy-users/hamed.vaheb@pwc.lu/data-engineer-learning-path/pipeline_demo/\"))"
   ]
  },
  {
   "cell_type": "code",
   "execution_count": 0,
   "metadata": {
    "application/vnd.databricks.v1+cell": {
     "cellMetadata": {
      "byteLimit": 2048000,
      "rowLimit": 10000
     },
     "inputWidgets": {},
     "nuid": "dc735337-7bc9-4226-b09a-c726c223bc98",
     "showTitle": false,
     "title": ""
    }
   },
   "outputs": [
    {
     "output_type": "display_data",
     "data": {
      "text/html": [
       "<style scoped>\n",
       "  .table-result-container {\n",
       "    max-height: 300px;\n",
       "    overflow: auto;\n",
       "  }\n",
       "  table, th, td {\n",
       "    border: 1px solid black;\n",
       "    border-collapse: collapse;\n",
       "  }\n",
       "  th, td {\n",
       "    padding: 5px;\n",
       "  }\n",
       "  th {\n",
       "    text-align: left;\n",
       "  }\n",
       "</style><div class='table-result-container'><table class='table-result'><thead style='background-color: white'><tr><th>path</th><th>name</th><th>size</th><th>modificationTime</th></tr></thead><tbody><tr><td>dbfs:/mnt/dbacademy-users/hamed.vaheb@pwc.lu/data-engineer-learning-path/pipeline_demo/stream-source/status/00.json</td><td>00.json</td><td>40658</td><td>1685712105000</td></tr></tbody></table></div>"
      ]
     },
     "metadata": {
      "application/vnd.databricks.v1+output": {
       "addedWidgets": {},
       "aggData": [],
       "aggError": "",
       "aggOverflow": false,
       "aggSchema": [],
       "aggSeriesLimitReached": false,
       "aggType": "",
       "arguments": {},
       "columnCustomDisplayInfos": {},
       "data": [
        [
         "dbfs:/mnt/dbacademy-users/hamed.vaheb@pwc.lu/data-engineer-learning-path/pipeline_demo/stream-source/status/00.json",
         "00.json",
         40658,
         1685712105000
        ]
       ],
       "datasetInfos": [],
       "dbfsResultPath": null,
       "isJsonSchema": true,
       "metadata": {},
       "overflow": false,
       "plotOptions": {
        "customPlotOptions": {},
        "displayType": "table",
        "pivotAggregation": null,
        "pivotColumns": null,
        "xColumns": null,
        "yColumns": null
       },
       "removedWidgets": [],
       "schema": [
        {
         "metadata": "{}",
         "name": "path",
         "type": "\"string\""
        },
        {
         "metadata": "{}",
         "name": "name",
         "type": "\"string\""
        },
        {
         "metadata": "{}",
         "name": "size",
         "type": "\"long\""
        },
        {
         "metadata": "{}",
         "name": "modificationTime",
         "type": "\"long\""
        }
       ],
       "type": "table"
      }
     },
     "output_type": "display_data"
    }
   ],
   "source": [
    "%python\n",
    "display(dbutils.fs.ls(\"dbfs:/mnt/dbacademy-users/hamed.vaheb@pwc.lu/data-engineer-learning-path/pipeline_demo/stream-source/status\"))"
   ]
  },
  {
   "cell_type": "code",
   "execution_count": 0,
   "metadata": {
    "application/vnd.databricks.v1+cell": {
     "cellMetadata": {
      "byteLimit": 2048000,
      "implicitDf": true,
      "rowLimit": 10000
     },
     "inputWidgets": {},
     "nuid": "421c4eee-f8a0-4b3b-af27-e9ebc88dc1eb",
     "showTitle": false,
     "title": ""
    }
   },
   "outputs": [
    {
     "output_type": "display_data",
     "data": {
      "text/html": [
       "<style scoped>\n",
       "  .table-result-container {\n",
       "    max-height: 300px;\n",
       "    overflow: auto;\n",
       "  }\n",
       "  table, th, td {\n",
       "    border: 1px solid black;\n",
       "    border-collapse: collapse;\n",
       "  }\n",
       "  th, td {\n",
       "    padding: 5px;\n",
       "  }\n",
       "  th {\n",
       "    text-align: left;\n",
       "  }\n",
       "</style><div class='table-result-container'><table class='table-result'><thead style='background-color: white'><tr><th>num_affected_rows</th><th>num_inserted_rows</th></tr></thead><tbody></tbody></table></div>"
      ]
     },
     "metadata": {
      "application/vnd.databricks.v1+output": {
       "addedWidgets": {},
       "aggData": [],
       "aggError": "",
       "aggOverflow": false,
       "aggSchema": [],
       "aggSeriesLimitReached": false,
       "aggType": "",
       "arguments": {},
       "columnCustomDisplayInfos": {},
       "data": [],
       "datasetInfos": [],
       "dbfsResultPath": null,
       "isJsonSchema": true,
       "metadata": {},
       "overflow": false,
       "plotOptions": {
        "customPlotOptions": {},
        "displayType": "table",
        "pivotAggregation": null,
        "pivotColumns": null,
        "xColumns": null,
        "yColumns": null
       },
       "removedWidgets": [],
       "schema": [
        {
         "metadata": "{}",
         "name": "num_affected_rows",
         "type": "\"long\""
        },
        {
         "metadata": "{}",
         "name": "num_inserted_rows",
         "type": "\"long\""
        }
       ],
       "type": "table"
      }
     },
     "output_type": "display_data"
    }
   ],
   "source": [
    "%sql\n",
    "CREATE OR REPLACE TABLE OrdersTable SELECT * FROM json.`dbfs:/mnt/dbacademy-users/hamed.vaheb@pwc.lu/data-engineer-learning-path/pipeline_demo/stream-source/orders/00.json`"
   ]
  },
  {
   "cell_type": "code",
   "execution_count": 0,
   "metadata": {
    "application/vnd.databricks.v1+cell": {
     "cellMetadata": {
      "byteLimit": 2048000,
      "implicitDf": true,
      "rowLimit": 10000
     },
     "inputWidgets": {},
     "nuid": "d8535183-3466-43a6-8568-40e32095aed9",
     "showTitle": false,
     "title": ""
    }
   },
   "outputs": [
    {
     "output_type": "display_data",
     "data": {
      "text/html": [
       "<style scoped>\n",
       "  .table-result-container {\n",
       "    max-height: 300px;\n",
       "    overflow: auto;\n",
       "  }\n",
       "  table, th, td {\n",
       "    border: 1px solid black;\n",
       "    border-collapse: collapse;\n",
       "  }\n",
       "  th, td {\n",
       "    padding: 5px;\n",
       "  }\n",
       "  th {\n",
       "    text-align: left;\n",
       "  }\n",
       "</style><div class='table-result-container'><table class='table-result'><thead style='background-color: white'><tr><th>customer_id</th><th>notifications</th><th>order_id</th><th>order_timestamp</th></tr></thead><tbody><tr><td>23094</td><td>Y</td><td>75123</td><td>1640392092</td></tr><tr><td>23457</td><td>N</td><td>75124</td><td>1640392500</td></tr><tr><td>23564</td><td>Y</td><td>75125</td><td>1640394862</td></tr><tr><td>23392</td><td>N</td><td>75126</td><td>1640396067</td></tr><tr><td>23101</td><td>Y</td><td>75127</td><td>1640399066</td></tr><tr><td>23466</td><td>N</td><td>75128</td><td>1640404853</td></tr><tr><td>23834</td><td>Y</td><td>75129</td><td>1640407272</td></tr><tr><td>23852</td><td>Y</td><td>75130</td><td>1640419989</td></tr><tr><td>23483</td><td>Y</td><td>75131</td><td>1640422131</td></tr><tr><td>23821</td><td>N</td><td>75132</td><td>1640423697</td></tr><tr><td>23907</td><td>Y</td><td>75133</td><td>1640427687</td></tr><tr><td>23088</td><td>Y</td><td>75134</td><td>1640427813</td></tr><tr><td>23327</td><td>Y</td><td>75135</td><td>1640432499</td></tr><tr><td>23154</td><td>Y</td><td>75136</td><td>1640433629</td></tr><tr><td>23818</td><td>Y</td><td>75137</td><td>1640434907</td></tr><tr><td>23568</td><td>Y</td><td>75138</td><td>1640438599</td></tr><tr><td>23599</td><td>Y</td><td>75139</td><td>1640441108</td></tr><tr><td>23646</td><td>Y</td><td>75140</td><td>1640442728</td></tr><tr><td>23447</td><td>Y</td><td>75141</td><td>1640442982</td></tr><tr><td>22196</td><td>N</td><td>75142</td><td>1640444289</td></tr><tr><td>23004</td><td>Y</td><td>75143</td><td>1640444735</td></tr><tr><td>22457</td><td>Y</td><td>75144</td><td>1640453556</td></tr><tr><td>23560</td><td>N</td><td>75145</td><td>1640454027</td></tr><tr><td>23892</td><td>Y</td><td>75146</td><td>1640469617</td></tr><tr><td>23270</td><td>N</td><td>75147</td><td>1640469849</td></tr><tr><td>23318</td><td>Y</td><td>75148</td><td>1640470511</td></tr><tr><td>23134</td><td>Y</td><td>75149</td><td>1640476865</td></tr><tr><td>23631</td><td>Y</td><td>75150</td><td>1640479937</td></tr><tr><td>23447</td><td>Y</td><td>75151</td><td>1640480642</td></tr><tr><td>22980</td><td>Y</td><td>75152</td><td>1640489317</td></tr><tr><td>23662</td><td>Y</td><td>75153</td><td>1640490661</td></tr><tr><td>23128</td><td>Y</td><td>75154</td><td>1640491953</td></tr><tr><td>23305</td><td>Y</td><td>75155</td><td>1640500820</td></tr><tr><td>23790</td><td>Y</td><td>75156</td><td>1640506768</td></tr><tr><td>23673</td><td>Y</td><td>75157</td><td>1640514816</td></tr><tr><td>22447</td><td>Y</td><td>75158</td><td>1640516867</td></tr><tr><td>22600</td><td>Y</td><td>75159</td><td>1640516913</td></tr><tr><td>23598</td><td>Y</td><td>75160</td><td>1640517492</td></tr><tr><td>23453</td><td>N</td><td>75161</td><td>1640521294</td></tr><tr><td>22477</td><td>N</td><td>75162</td><td>1640526465</td></tr><tr><td>23863</td><td>Y</td><td>75163</td><td>1640526485</td></tr><tr><td>22485</td><td>N</td><td>75164</td><td>1640526860</td></tr><tr><td>23786</td><td>N</td><td>75165</td><td>1640532784</td></tr><tr><td>23833</td><td>N</td><td>75166</td><td>1640534000</td></tr><tr><td>23242</td><td>N</td><td>75167</td><td>1640534721</td></tr><tr><td>23120</td><td>Y</td><td>75168</td><td>1640548053</td></tr><tr><td>23815</td><td>Y</td><td>75169</td><td>1640548610</td></tr><tr><td>22757</td><td>Y</td><td>75170</td><td>1640548846</td></tr><tr><td>23748</td><td>N</td><td>75171</td><td>1640552043</td></tr><tr><td>23416</td><td>Y</td><td>75172</td><td>1640552112</td></tr><tr><td>23218</td><td>N</td><td>75173</td><td>1640553981</td></tr><tr><td>23867</td><td>Y</td><td>75174</td><td>1640564080</td></tr><tr><td>23259</td><td>N</td><td>75175</td><td>1640567847</td></tr><tr><td>22757</td><td>N</td><td>75176</td><td>1640569060</td></tr><tr><td>22599</td><td>Y</td><td>75177</td><td>1640574553</td></tr><tr><td>23606</td><td>Y</td><td>75178</td><td>1640575274</td></tr><tr><td>23493</td><td>N</td><td>75179</td><td>1640575962</td></tr><tr><td>22467</td><td>Y</td><td>75180</td><td>1640580049</td></tr><tr><td>23828</td><td>Y</td><td>75181</td><td>1640582140</td></tr><tr><td>22316</td><td>Y</td><td>75182</td><td>1640587536</td></tr><tr><td>23061</td><td>Y</td><td>75183</td><td>1640594017</td></tr><tr><td>23813</td><td>Y</td><td>75184</td><td>1640603248</td></tr><tr><td>23358</td><td>Y</td><td>75185</td><td>1640611591</td></tr><tr><td>23778</td><td>Y</td><td>75186</td><td>1640613010</td></tr><tr><td>23477</td><td>Y</td><td>75187</td><td>1640618976</td></tr><tr><td>23179</td><td>Y</td><td>75188</td><td>1640620853</td></tr><tr><td>23769</td><td>Y</td><td>75189</td><td>1640625214</td></tr><tr><td>23836</td><td>N</td><td>75190</td><td>1640625322</td></tr><tr><td>22557</td><td>Y</td><td>75191</td><td>1640625597</td></tr><tr><td>23359</td><td>Y</td><td>75192</td><td>1640631831</td></tr><tr><td>23768</td><td>Y</td><td>75193</td><td>1640631849</td></tr><tr><td>23669</td><td>Y</td><td>75194</td><td>1640633377</td></tr><tr><td>23823</td><td>Y</td><td>75195</td><td>1640637588</td></tr><tr><td>22296</td><td>Y</td><td>75196</td><td>1640642842</td></tr><tr><td>23318</td><td>Y</td><td>75197</td><td>1640643224</td></tr><tr><td>23219</td><td>N</td><td>75198</td><td>1640643721</td></tr><tr><td>23072</td><td>Y</td><td>75199</td><td>1640653481</td></tr><tr><td>23910</td><td>Y</td><td>75200</td><td>1640660661</td></tr><tr><td>23833</td><td>Y</td><td>75201</td><td>1640665029</td></tr><tr><td>23696</td><td>Y</td><td>75202</td><td>1640665868</td></tr><tr><td>23815</td><td>Y</td><td>75203</td><td>1640665971</td></tr><tr><td>23195</td><td>N</td><td>75204</td><td>1640671232</td></tr><tr><td>23183</td><td>Y</td><td>75205</td><td>1640672063</td></tr><tr><td>23367</td><td>N</td><td>75206</td><td>1640675667</td></tr><tr><td>23088</td><td>Y</td><td>75207</td><td>1640675687</td></tr><tr><td>22752</td><td>Y</td><td>75208</td><td>1640678086</td></tr><tr><td>23326</td><td>Y</td><td>75209</td><td>1640681064</td></tr><tr><td>23212</td><td>Y</td><td>75210</td><td>1640682880</td></tr><tr><td>23524</td><td>Y</td><td>75211</td><td>1640684944</td></tr><tr><td>23151</td><td>Y</td><td>75212</td><td>1640690706</td></tr><tr><td>23582</td><td>Y</td><td>75213</td><td>1640691368</td></tr><tr><td>23182</td><td>Y</td><td>75214</td><td>1640691634</td></tr><tr><td>22826</td><td>Y</td><td>75215</td><td>1640696465</td></tr><tr><td>23158</td><td>Y</td><td>75216</td><td>1640706768</td></tr><tr><td>23343</td><td>Y</td><td>75217</td><td>1640717605</td></tr><tr><td>23390</td><td>Y</td><td>75218</td><td>1640721908</td></tr><tr><td>23574</td><td>Y</td><td>75219</td><td>1640725566</td></tr><tr><td>23282</td><td>Y</td><td>75220</td><td>1640726897</td></tr><tr><td>23206</td><td>N</td><td>75221</td><td>1640730881</td></tr><tr><td>23811</td><td>Y</td><td>75222</td><td>1640731443</td></tr><tr><td>23734</td><td>Y</td><td>75223</td><td>1640732281</td></tr><tr><td>23284</td><td>N</td><td>75224</td><td>1640737911</td></tr><tr><td>23397</td><td>Y</td><td>75225</td><td>1640741859</td></tr><tr><td>23285</td><td>Y</td><td>75226</td><td>1640743461</td></tr><tr><td>23443</td><td>Y</td><td>75227</td><td>1640744138</td></tr><tr><td>23841</td><td>Y</td><td>75228</td><td>1640745536</td></tr><tr><td>23489</td><td>Y</td><td>75229</td><td>1640745939</td></tr><tr><td>23377</td><td>Y</td><td>75230</td><td>1640751789</td></tr><tr><td>23519</td><td>Y</td><td>75231</td><td>1640753686</td></tr><tr><td>23273</td><td>Y</td><td>75232</td><td>1640754906</td></tr><tr><td>23942</td><td>Y</td><td>75233</td><td>1640755409</td></tr><tr><td>23714</td><td>Y</td><td>75234</td><td>1640755921</td></tr><tr><td>22959</td><td>N</td><td>75235</td><td>1640758650</td></tr><tr><td>23642</td><td>Y</td><td>75236</td><td>1640763112</td></tr><tr><td>23277</td><td>N</td><td>75237</td><td>1640781747</td></tr><tr><td>23777</td><td>Y</td><td>75238</td><td>1640790253</td></tr><tr><td>23748</td><td>N</td><td>75239</td><td>1640799146</td></tr><tr><td>23511</td><td>Y</td><td>75240</td><td>1640799965</td></tr><tr><td>23964</td><td>N</td><td>75241</td><td>1640800237</td></tr><tr><td>23542</td><td>Y</td><td>75242</td><td>1640803027</td></tr><tr><td>23842</td><td>Y</td><td>75243</td><td>1640805315</td></tr><tr><td>23371</td><td>Y</td><td>75244</td><td>1640808136</td></tr><tr><td>22895</td><td>Y</td><td>75245</td><td>1640809481</td></tr><tr><td>23885</td><td>Y</td><td>75246</td><td>1640810227</td></tr><tr><td>23875</td><td>Y</td><td>75247</td><td>1640812303</td></tr><tr><td>23331</td><td>Y</td><td>75248</td><td>1640815265</td></tr><tr><td>23218</td><td>N</td><td>75249</td><td>1640828420</td></tr><tr><td>23779</td><td>N</td><td>75250</td><td>1640830827</td></tr><tr><td>23187</td><td>N</td><td>75251</td><td>1640837025</td></tr><tr><td>23435</td><td>Y</td><td>75252</td><td>1640837290</td></tr><tr><td>23124</td><td>Y</td><td>75253</td><td>1640837302</td></tr><tr><td>23215</td><td>N</td><td>75254</td><td>1640852084</td></tr><tr><td>23863</td><td>Y</td><td>75255</td><td>1640857299</td></tr><tr><td>23800</td><td>Y</td><td>75256</td><td>1640858077</td></tr><tr><td>23503</td><td>N</td><td>75257</td><td>1640859758</td></tr><tr><td>23755</td><td>Y</td><td>75258</td><td>1640862499</td></tr><tr><td>23509</td><td>Y</td><td>75259</td><td>1640864646</td></tr><tr><td>22338</td><td>N</td><td>75260</td><td>1640867193</td></tr><tr><td>22935</td><td>Y</td><td>75261</td><td>1640869044</td></tr><tr><td>23311</td><td>Y</td><td>75262</td><td>1640869535</td></tr><tr><td>23819</td><td>Y</td><td>75263</td><td>1640869633</td></tr><tr><td>23312</td><td>Y</td><td>75264</td><td>1640886912</td></tr><tr><td>23484</td><td>Y</td><td>75265</td><td>1640888803</td></tr><tr><td>23290</td><td>Y</td><td>75266</td><td>1640889524</td></tr><tr><td>23558</td><td>Y</td><td>75267</td><td>1640889752</td></tr><tr><td>23086</td><td>Y</td><td>75268</td><td>1640893693</td></tr><tr><td>23822</td><td>Y</td><td>75269</td><td>1640895938</td></tr><tr><td>23212</td><td>Y</td><td>75270</td><td>1640898363</td></tr><tr><td>23715</td><td>Y</td><td>75271</td><td>1640902531</td></tr><tr><td>22161</td><td>Y</td><td>75272</td><td>1640904968</td></tr><tr><td>23882</td><td>Y</td><td>75273</td><td>1640909763</td></tr><tr><td>23147</td><td>Y</td><td>75274</td><td>1640911244</td></tr><tr><td>23577</td><td>Y</td><td>75275</td><td>1640911324</td></tr><tr><td>23888</td><td>Y</td><td>75276</td><td>1640914350</td></tr><tr><td>22815</td><td>Y</td><td>75277</td><td>1640922137</td></tr><tr><td>23521</td><td>Y</td><td>75278</td><td>1640933033</td></tr><tr><td>23887</td><td>Y</td><td>75279</td><td>1640933550</td></tr><tr><td>23551</td><td>N</td><td>75280</td><td>1640933653</td></tr><tr><td>23886</td><td>Y</td><td>75281</td><td>1640935059</td></tr><tr><td>23376</td><td>Y</td><td>75282</td><td>1640935106</td></tr><tr><td>23911</td><td>N</td><td>75283</td><td>1640941395</td></tr><tr><td>23310</td><td>Y</td><td>75284</td><td>1640948702</td></tr><tr><td>23109</td><td>N</td><td>75285</td><td>1640950790</td></tr><tr><td>23291</td><td>Y</td><td>75286</td><td>1640953620</td></tr><tr><td>23556</td><td>Y</td><td>75287</td><td>1640953917</td></tr><tr><td>23581</td><td>Y</td><td>75288</td><td>1640958185</td></tr><tr><td>23621</td><td>Y</td><td>75289</td><td>1640960321</td></tr><tr><td>23365</td><td>Y</td><td>75290</td><td>1640963057</td></tr><tr><td>23716</td><td>N</td><td>75291</td><td>1640971896</td></tr><tr><td>23206</td><td>Y</td><td>75292</td><td>1640974381</td></tr><tr><td>23027</td><td>Y</td><td>75293</td><td>1640984029</td></tr><tr><td>23380</td><td>N</td><td>75294</td><td>1640987218</td></tr><tr><td>22701</td><td>Y</td><td>75295</td><td>1640987527</td></tr><tr><td>23766</td><td>Y</td><td>75296</td><td>1640990674</td></tr></tbody></table></div>"
      ]
     },
     "metadata": {
      "application/vnd.databricks.v1+output": {
       "addedWidgets": {},
       "aggData": [],
       "aggError": "",
       "aggOverflow": false,
       "aggSchema": [],
       "aggSeriesLimitReached": false,
       "aggType": "",
       "arguments": {},
       "columnCustomDisplayInfos": {},
       "data": [
        [
         23094,
         "Y",
         75123,
         1640392092
        ],
        [
         23457,
         "N",
         75124,
         1640392500
        ],
        [
         23564,
         "Y",
         75125,
         1640394862
        ],
        [
         23392,
         "N",
         75126,
         1640396067
        ],
        [
         23101,
         "Y",
         75127,
         1640399066
        ],
        [
         23466,
         "N",
         75128,
         1640404853
        ],
        [
         23834,
         "Y",
         75129,
         1640407272
        ],
        [
         23852,
         "Y",
         75130,
         1640419989
        ],
        [
         23483,
         "Y",
         75131,
         1640422131
        ],
        [
         23821,
         "N",
         75132,
         1640423697
        ],
        [
         23907,
         "Y",
         75133,
         1640427687
        ],
        [
         23088,
         "Y",
         75134,
         1640427813
        ],
        [
         23327,
         "Y",
         75135,
         1640432499
        ],
        [
         23154,
         "Y",
         75136,
         1640433629
        ],
        [
         23818,
         "Y",
         75137,
         1640434907
        ],
        [
         23568,
         "Y",
         75138,
         1640438599
        ],
        [
         23599,
         "Y",
         75139,
         1640441108
        ],
        [
         23646,
         "Y",
         75140,
         1640442728
        ],
        [
         23447,
         "Y",
         75141,
         1640442982
        ],
        [
         22196,
         "N",
         75142,
         1640444289
        ],
        [
         23004,
         "Y",
         75143,
         1640444735
        ],
        [
         22457,
         "Y",
         75144,
         1640453556
        ],
        [
         23560,
         "N",
         75145,
         1640454027
        ],
        [
         23892,
         "Y",
         75146,
         1640469617
        ],
        [
         23270,
         "N",
         75147,
         1640469849
        ],
        [
         23318,
         "Y",
         75148,
         1640470511
        ],
        [
         23134,
         "Y",
         75149,
         1640476865
        ],
        [
         23631,
         "Y",
         75150,
         1640479937
        ],
        [
         23447,
         "Y",
         75151,
         1640480642
        ],
        [
         22980,
         "Y",
         75152,
         1640489317
        ],
        [
         23662,
         "Y",
         75153,
         1640490661
        ],
        [
         23128,
         "Y",
         75154,
         1640491953
        ],
        [
         23305,
         "Y",
         75155,
         1640500820
        ],
        [
         23790,
         "Y",
         75156,
         1640506768
        ],
        [
         23673,
         "Y",
         75157,
         1640514816
        ],
        [
         22447,
         "Y",
         75158,
         1640516867
        ],
        [
         22600,
         "Y",
         75159,
         1640516913
        ],
        [
         23598,
         "Y",
         75160,
         1640517492
        ],
        [
         23453,
         "N",
         75161,
         1640521294
        ],
        [
         22477,
         "N",
         75162,
         1640526465
        ],
        [
         23863,
         "Y",
         75163,
         1640526485
        ],
        [
         22485,
         "N",
         75164,
         1640526860
        ],
        [
         23786,
         "N",
         75165,
         1640532784
        ],
        [
         23833,
         "N",
         75166,
         1640534000
        ],
        [
         23242,
         "N",
         75167,
         1640534721
        ],
        [
         23120,
         "Y",
         75168,
         1640548053
        ],
        [
         23815,
         "Y",
         75169,
         1640548610
        ],
        [
         22757,
         "Y",
         75170,
         1640548846
        ],
        [
         23748,
         "N",
         75171,
         1640552043
        ],
        [
         23416,
         "Y",
         75172,
         1640552112
        ],
        [
         23218,
         "N",
         75173,
         1640553981
        ],
        [
         23867,
         "Y",
         75174,
         1640564080
        ],
        [
         23259,
         "N",
         75175,
         1640567847
        ],
        [
         22757,
         "N",
         75176,
         1640569060
        ],
        [
         22599,
         "Y",
         75177,
         1640574553
        ],
        [
         23606,
         "Y",
         75178,
         1640575274
        ],
        [
         23493,
         "N",
         75179,
         1640575962
        ],
        [
         22467,
         "Y",
         75180,
         1640580049
        ],
        [
         23828,
         "Y",
         75181,
         1640582140
        ],
        [
         22316,
         "Y",
         75182,
         1640587536
        ],
        [
         23061,
         "Y",
         75183,
         1640594017
        ],
        [
         23813,
         "Y",
         75184,
         1640603248
        ],
        [
         23358,
         "Y",
         75185,
         1640611591
        ],
        [
         23778,
         "Y",
         75186,
         1640613010
        ],
        [
         23477,
         "Y",
         75187,
         1640618976
        ],
        [
         23179,
         "Y",
         75188,
         1640620853
        ],
        [
         23769,
         "Y",
         75189,
         1640625214
        ],
        [
         23836,
         "N",
         75190,
         1640625322
        ],
        [
         22557,
         "Y",
         75191,
         1640625597
        ],
        [
         23359,
         "Y",
         75192,
         1640631831
        ],
        [
         23768,
         "Y",
         75193,
         1640631849
        ],
        [
         23669,
         "Y",
         75194,
         1640633377
        ],
        [
         23823,
         "Y",
         75195,
         1640637588
        ],
        [
         22296,
         "Y",
         75196,
         1640642842
        ],
        [
         23318,
         "Y",
         75197,
         1640643224
        ],
        [
         23219,
         "N",
         75198,
         1640643721
        ],
        [
         23072,
         "Y",
         75199,
         1640653481
        ],
        [
         23910,
         "Y",
         75200,
         1640660661
        ],
        [
         23833,
         "Y",
         75201,
         1640665029
        ],
        [
         23696,
         "Y",
         75202,
         1640665868
        ],
        [
         23815,
         "Y",
         75203,
         1640665971
        ],
        [
         23195,
         "N",
         75204,
         1640671232
        ],
        [
         23183,
         "Y",
         75205,
         1640672063
        ],
        [
         23367,
         "N",
         75206,
         1640675667
        ],
        [
         23088,
         "Y",
         75207,
         1640675687
        ],
        [
         22752,
         "Y",
         75208,
         1640678086
        ],
        [
         23326,
         "Y",
         75209,
         1640681064
        ],
        [
         23212,
         "Y",
         75210,
         1640682880
        ],
        [
         23524,
         "Y",
         75211,
         1640684944
        ],
        [
         23151,
         "Y",
         75212,
         1640690706
        ],
        [
         23582,
         "Y",
         75213,
         1640691368
        ],
        [
         23182,
         "Y",
         75214,
         1640691634
        ],
        [
         22826,
         "Y",
         75215,
         1640696465
        ],
        [
         23158,
         "Y",
         75216,
         1640706768
        ],
        [
         23343,
         "Y",
         75217,
         1640717605
        ],
        [
         23390,
         "Y",
         75218,
         1640721908
        ],
        [
         23574,
         "Y",
         75219,
         1640725566
        ],
        [
         23282,
         "Y",
         75220,
         1640726897
        ],
        [
         23206,
         "N",
         75221,
         1640730881
        ],
        [
         23811,
         "Y",
         75222,
         1640731443
        ],
        [
         23734,
         "Y",
         75223,
         1640732281
        ],
        [
         23284,
         "N",
         75224,
         1640737911
        ],
        [
         23397,
         "Y",
         75225,
         1640741859
        ],
        [
         23285,
         "Y",
         75226,
         1640743461
        ],
        [
         23443,
         "Y",
         75227,
         1640744138
        ],
        [
         23841,
         "Y",
         75228,
         1640745536
        ],
        [
         23489,
         "Y",
         75229,
         1640745939
        ],
        [
         23377,
         "Y",
         75230,
         1640751789
        ],
        [
         23519,
         "Y",
         75231,
         1640753686
        ],
        [
         23273,
         "Y",
         75232,
         1640754906
        ],
        [
         23942,
         "Y",
         75233,
         1640755409
        ],
        [
         23714,
         "Y",
         75234,
         1640755921
        ],
        [
         22959,
         "N",
         75235,
         1640758650
        ],
        [
         23642,
         "Y",
         75236,
         1640763112
        ],
        [
         23277,
         "N",
         75237,
         1640781747
        ],
        [
         23777,
         "Y",
         75238,
         1640790253
        ],
        [
         23748,
         "N",
         75239,
         1640799146
        ],
        [
         23511,
         "Y",
         75240,
         1640799965
        ],
        [
         23964,
         "N",
         75241,
         1640800237
        ],
        [
         23542,
         "Y",
         75242,
         1640803027
        ],
        [
         23842,
         "Y",
         75243,
         1640805315
        ],
        [
         23371,
         "Y",
         75244,
         1640808136
        ],
        [
         22895,
         "Y",
         75245,
         1640809481
        ],
        [
         23885,
         "Y",
         75246,
         1640810227
        ],
        [
         23875,
         "Y",
         75247,
         1640812303
        ],
        [
         23331,
         "Y",
         75248,
         1640815265
        ],
        [
         23218,
         "N",
         75249,
         1640828420
        ],
        [
         23779,
         "N",
         75250,
         1640830827
        ],
        [
         23187,
         "N",
         75251,
         1640837025
        ],
        [
         23435,
         "Y",
         75252,
         1640837290
        ],
        [
         23124,
         "Y",
         75253,
         1640837302
        ],
        [
         23215,
         "N",
         75254,
         1640852084
        ],
        [
         23863,
         "Y",
         75255,
         1640857299
        ],
        [
         23800,
         "Y",
         75256,
         1640858077
        ],
        [
         23503,
         "N",
         75257,
         1640859758
        ],
        [
         23755,
         "Y",
         75258,
         1640862499
        ],
        [
         23509,
         "Y",
         75259,
         1640864646
        ],
        [
         22338,
         "N",
         75260,
         1640867193
        ],
        [
         22935,
         "Y",
         75261,
         1640869044
        ],
        [
         23311,
         "Y",
         75262,
         1640869535
        ],
        [
         23819,
         "Y",
         75263,
         1640869633
        ],
        [
         23312,
         "Y",
         75264,
         1640886912
        ],
        [
         23484,
         "Y",
         75265,
         1640888803
        ],
        [
         23290,
         "Y",
         75266,
         1640889524
        ],
        [
         23558,
         "Y",
         75267,
         1640889752
        ],
        [
         23086,
         "Y",
         75268,
         1640893693
        ],
        [
         23822,
         "Y",
         75269,
         1640895938
        ],
        [
         23212,
         "Y",
         75270,
         1640898363
        ],
        [
         23715,
         "Y",
         75271,
         1640902531
        ],
        [
         22161,
         "Y",
         75272,
         1640904968
        ],
        [
         23882,
         "Y",
         75273,
         1640909763
        ],
        [
         23147,
         "Y",
         75274,
         1640911244
        ],
        [
         23577,
         "Y",
         75275,
         1640911324
        ],
        [
         23888,
         "Y",
         75276,
         1640914350
        ],
        [
         22815,
         "Y",
         75277,
         1640922137
        ],
        [
         23521,
         "Y",
         75278,
         1640933033
        ],
        [
         23887,
         "Y",
         75279,
         1640933550
        ],
        [
         23551,
         "N",
         75280,
         1640933653
        ],
        [
         23886,
         "Y",
         75281,
         1640935059
        ],
        [
         23376,
         "Y",
         75282,
         1640935106
        ],
        [
         23911,
         "N",
         75283,
         1640941395
        ],
        [
         23310,
         "Y",
         75284,
         1640948702
        ],
        [
         23109,
         "N",
         75285,
         1640950790
        ],
        [
         23291,
         "Y",
         75286,
         1640953620
        ],
        [
         23556,
         "Y",
         75287,
         1640953917
        ],
        [
         23581,
         "Y",
         75288,
         1640958185
        ],
        [
         23621,
         "Y",
         75289,
         1640960321
        ],
        [
         23365,
         "Y",
         75290,
         1640963057
        ],
        [
         23716,
         "N",
         75291,
         1640971896
        ],
        [
         23206,
         "Y",
         75292,
         1640974381
        ],
        [
         23027,
         "Y",
         75293,
         1640984029
        ],
        [
         23380,
         "N",
         75294,
         1640987218
        ],
        [
         22701,
         "Y",
         75295,
         1640987527
        ],
        [
         23766,
         "Y",
         75296,
         1640990674
        ]
       ],
       "datasetInfos": [],
       "dbfsResultPath": null,
       "isJsonSchema": true,
       "metadata": {},
       "overflow": false,
       "plotOptions": {
        "customPlotOptions": {},
        "displayType": "table",
        "pivotAggregation": null,
        "pivotColumns": null,
        "xColumns": null,
        "yColumns": null
       },
       "removedWidgets": [],
       "schema": [
        {
         "metadata": "{}",
         "name": "customer_id",
         "type": "\"long\""
        },
        {
         "metadata": "{}",
         "name": "notifications",
         "type": "\"string\""
        },
        {
         "metadata": "{}",
         "name": "order_id",
         "type": "\"long\""
        },
        {
         "metadata": "{}",
         "name": "order_timestamp",
         "type": "\"long\""
        }
       ],
       "type": "table"
      }
     },
     "output_type": "display_data"
    }
   ],
   "source": [
    "%sql\n",
    "SELECT * FROM OrdersTable"
   ]
  },
  {
   "cell_type": "code",
   "execution_count": 0,
   "metadata": {
    "application/vnd.databricks.v1+cell": {
     "cellMetadata": {
      "byteLimit": 2048000,
      "implicitDf": true,
      "rowLimit": 10000
     },
     "inputWidgets": {},
     "nuid": "377098fc-c693-452a-af86-0b9f02f745df",
     "showTitle": false,
     "title": ""
    }
   },
   "outputs": [
    {
     "output_type": "display_data",
     "data": {
      "text/html": [
       "<style scoped>\n",
       "  .table-result-container {\n",
       "    max-height: 300px;\n",
       "    overflow: auto;\n",
       "  }\n",
       "  table, th, td {\n",
       "    border: 1px solid black;\n",
       "    border-collapse: collapse;\n",
       "  }\n",
       "  th, td {\n",
       "    padding: 5px;\n",
       "  }\n",
       "  th {\n",
       "    text-align: left;\n",
       "  }\n",
       "</style><div class='table-result-container'><table class='table-result'><thead style='background-color: white'><tr><th>customer_id</th><th>notifications</th><th>order_id</th><th>order_timestamp</th><th>order_timestamp</th></tr></thead><tbody><tr><td>23094</td><td>Y</td><td>75123</td><td>1640392092</td><td>2021-12-25T00:28:12.000+0000</td></tr><tr><td>23457</td><td>N</td><td>75124</td><td>1640392500</td><td>2021-12-25T00:35:00.000+0000</td></tr><tr><td>23564</td><td>Y</td><td>75125</td><td>1640394862</td><td>2021-12-25T01:14:22.000+0000</td></tr><tr><td>23392</td><td>N</td><td>75126</td><td>1640396067</td><td>2021-12-25T01:34:27.000+0000</td></tr><tr><td>23101</td><td>Y</td><td>75127</td><td>1640399066</td><td>2021-12-25T02:24:26.000+0000</td></tr><tr><td>23466</td><td>N</td><td>75128</td><td>1640404853</td><td>2021-12-25T04:00:53.000+0000</td></tr><tr><td>23834</td><td>Y</td><td>75129</td><td>1640407272</td><td>2021-12-25T04:41:12.000+0000</td></tr><tr><td>23852</td><td>Y</td><td>75130</td><td>1640419989</td><td>2021-12-25T08:13:09.000+0000</td></tr><tr><td>23483</td><td>Y</td><td>75131</td><td>1640422131</td><td>2021-12-25T08:48:51.000+0000</td></tr><tr><td>23821</td><td>N</td><td>75132</td><td>1640423697</td><td>2021-12-25T09:14:57.000+0000</td></tr><tr><td>23907</td><td>Y</td><td>75133</td><td>1640427687</td><td>2021-12-25T10:21:27.000+0000</td></tr><tr><td>23088</td><td>Y</td><td>75134</td><td>1640427813</td><td>2021-12-25T10:23:33.000+0000</td></tr><tr><td>23327</td><td>Y</td><td>75135</td><td>1640432499</td><td>2021-12-25T11:41:39.000+0000</td></tr><tr><td>23154</td><td>Y</td><td>75136</td><td>1640433629</td><td>2021-12-25T12:00:29.000+0000</td></tr><tr><td>23818</td><td>Y</td><td>75137</td><td>1640434907</td><td>2021-12-25T12:21:47.000+0000</td></tr><tr><td>23568</td><td>Y</td><td>75138</td><td>1640438599</td><td>2021-12-25T13:23:19.000+0000</td></tr><tr><td>23599</td><td>Y</td><td>75139</td><td>1640441108</td><td>2021-12-25T14:05:08.000+0000</td></tr><tr><td>23646</td><td>Y</td><td>75140</td><td>1640442728</td><td>2021-12-25T14:32:08.000+0000</td></tr><tr><td>23447</td><td>Y</td><td>75141</td><td>1640442982</td><td>2021-12-25T14:36:22.000+0000</td></tr><tr><td>22196</td><td>N</td><td>75142</td><td>1640444289</td><td>2021-12-25T14:58:09.000+0000</td></tr><tr><td>23004</td><td>Y</td><td>75143</td><td>1640444735</td><td>2021-12-25T15:05:35.000+0000</td></tr><tr><td>22457</td><td>Y</td><td>75144</td><td>1640453556</td><td>2021-12-25T17:32:36.000+0000</td></tr><tr><td>23560</td><td>N</td><td>75145</td><td>1640454027</td><td>2021-12-25T17:40:27.000+0000</td></tr><tr><td>23892</td><td>Y</td><td>75146</td><td>1640469617</td><td>2021-12-25T22:00:17.000+0000</td></tr><tr><td>23270</td><td>N</td><td>75147</td><td>1640469849</td><td>2021-12-25T22:04:09.000+0000</td></tr><tr><td>23318</td><td>Y</td><td>75148</td><td>1640470511</td><td>2021-12-25T22:15:11.000+0000</td></tr><tr><td>23134</td><td>Y</td><td>75149</td><td>1640476865</td><td>2021-12-26T00:01:05.000+0000</td></tr><tr><td>23631</td><td>Y</td><td>75150</td><td>1640479937</td><td>2021-12-26T00:52:17.000+0000</td></tr><tr><td>23447</td><td>Y</td><td>75151</td><td>1640480642</td><td>2021-12-26T01:04:02.000+0000</td></tr><tr><td>22980</td><td>Y</td><td>75152</td><td>1640489317</td><td>2021-12-26T03:28:37.000+0000</td></tr><tr><td>23662</td><td>Y</td><td>75153</td><td>1640490661</td><td>2021-12-26T03:51:01.000+0000</td></tr><tr><td>23128</td><td>Y</td><td>75154</td><td>1640491953</td><td>2021-12-26T04:12:33.000+0000</td></tr><tr><td>23305</td><td>Y</td><td>75155</td><td>1640500820</td><td>2021-12-26T06:40:20.000+0000</td></tr><tr><td>23790</td><td>Y</td><td>75156</td><td>1640506768</td><td>2021-12-26T08:19:28.000+0000</td></tr><tr><td>23673</td><td>Y</td><td>75157</td><td>1640514816</td><td>2021-12-26T10:33:36.000+0000</td></tr><tr><td>22447</td><td>Y</td><td>75158</td><td>1640516867</td><td>2021-12-26T11:07:47.000+0000</td></tr><tr><td>22600</td><td>Y</td><td>75159</td><td>1640516913</td><td>2021-12-26T11:08:33.000+0000</td></tr><tr><td>23598</td><td>Y</td><td>75160</td><td>1640517492</td><td>2021-12-26T11:18:12.000+0000</td></tr><tr><td>23453</td><td>N</td><td>75161</td><td>1640521294</td><td>2021-12-26T12:21:34.000+0000</td></tr><tr><td>22477</td><td>N</td><td>75162</td><td>1640526465</td><td>2021-12-26T13:47:45.000+0000</td></tr><tr><td>23863</td><td>Y</td><td>75163</td><td>1640526485</td><td>2021-12-26T13:48:05.000+0000</td></tr><tr><td>22485</td><td>N</td><td>75164</td><td>1640526860</td><td>2021-12-26T13:54:20.000+0000</td></tr><tr><td>23786</td><td>N</td><td>75165</td><td>1640532784</td><td>2021-12-26T15:33:04.000+0000</td></tr><tr><td>23833</td><td>N</td><td>75166</td><td>1640534000</td><td>2021-12-26T15:53:20.000+0000</td></tr><tr><td>23242</td><td>N</td><td>75167</td><td>1640534721</td><td>2021-12-26T16:05:21.000+0000</td></tr><tr><td>23120</td><td>Y</td><td>75168</td><td>1640548053</td><td>2021-12-26T19:47:33.000+0000</td></tr><tr><td>23815</td><td>Y</td><td>75169</td><td>1640548610</td><td>2021-12-26T19:56:50.000+0000</td></tr><tr><td>22757</td><td>Y</td><td>75170</td><td>1640548846</td><td>2021-12-26T20:00:46.000+0000</td></tr><tr><td>23748</td><td>N</td><td>75171</td><td>1640552043</td><td>2021-12-26T20:54:03.000+0000</td></tr><tr><td>23416</td><td>Y</td><td>75172</td><td>1640552112</td><td>2021-12-26T20:55:12.000+0000</td></tr><tr><td>23218</td><td>N</td><td>75173</td><td>1640553981</td><td>2021-12-26T21:26:21.000+0000</td></tr><tr><td>23867</td><td>Y</td><td>75174</td><td>1640564080</td><td>2021-12-27T00:14:40.000+0000</td></tr><tr><td>23259</td><td>N</td><td>75175</td><td>1640567847</td><td>2021-12-27T01:17:27.000+0000</td></tr><tr><td>22757</td><td>N</td><td>75176</td><td>1640569060</td><td>2021-12-27T01:37:40.000+0000</td></tr><tr><td>22599</td><td>Y</td><td>75177</td><td>1640574553</td><td>2021-12-27T03:09:13.000+0000</td></tr><tr><td>23606</td><td>Y</td><td>75178</td><td>1640575274</td><td>2021-12-27T03:21:14.000+0000</td></tr><tr><td>23493</td><td>N</td><td>75179</td><td>1640575962</td><td>2021-12-27T03:32:42.000+0000</td></tr><tr><td>22467</td><td>Y</td><td>75180</td><td>1640580049</td><td>2021-12-27T04:40:49.000+0000</td></tr><tr><td>23828</td><td>Y</td><td>75181</td><td>1640582140</td><td>2021-12-27T05:15:40.000+0000</td></tr><tr><td>22316</td><td>Y</td><td>75182</td><td>1640587536</td><td>2021-12-27T06:45:36.000+0000</td></tr><tr><td>23061</td><td>Y</td><td>75183</td><td>1640594017</td><td>2021-12-27T08:33:37.000+0000</td></tr><tr><td>23813</td><td>Y</td><td>75184</td><td>1640603248</td><td>2021-12-27T11:07:28.000+0000</td></tr><tr><td>23358</td><td>Y</td><td>75185</td><td>1640611591</td><td>2021-12-27T13:26:31.000+0000</td></tr><tr><td>23778</td><td>Y</td><td>75186</td><td>1640613010</td><td>2021-12-27T13:50:10.000+0000</td></tr><tr><td>23477</td><td>Y</td><td>75187</td><td>1640618976</td><td>2021-12-27T15:29:36.000+0000</td></tr><tr><td>23179</td><td>Y</td><td>75188</td><td>1640620853</td><td>2021-12-27T16:00:53.000+0000</td></tr><tr><td>23769</td><td>Y</td><td>75189</td><td>1640625214</td><td>2021-12-27T17:13:34.000+0000</td></tr><tr><td>23836</td><td>N</td><td>75190</td><td>1640625322</td><td>2021-12-27T17:15:22.000+0000</td></tr><tr><td>22557</td><td>Y</td><td>75191</td><td>1640625597</td><td>2021-12-27T17:19:57.000+0000</td></tr><tr><td>23359</td><td>Y</td><td>75192</td><td>1640631831</td><td>2021-12-27T19:03:51.000+0000</td></tr><tr><td>23768</td><td>Y</td><td>75193</td><td>1640631849</td><td>2021-12-27T19:04:09.000+0000</td></tr><tr><td>23669</td><td>Y</td><td>75194</td><td>1640633377</td><td>2021-12-27T19:29:37.000+0000</td></tr><tr><td>23823</td><td>Y</td><td>75195</td><td>1640637588</td><td>2021-12-27T20:39:48.000+0000</td></tr><tr><td>22296</td><td>Y</td><td>75196</td><td>1640642842</td><td>2021-12-27T22:07:22.000+0000</td></tr><tr><td>23318</td><td>Y</td><td>75197</td><td>1640643224</td><td>2021-12-27T22:13:44.000+0000</td></tr><tr><td>23219</td><td>N</td><td>75198</td><td>1640643721</td><td>2021-12-27T22:22:01.000+0000</td></tr><tr><td>23072</td><td>Y</td><td>75199</td><td>1640653481</td><td>2021-12-28T01:04:41.000+0000</td></tr><tr><td>23910</td><td>Y</td><td>75200</td><td>1640660661</td><td>2021-12-28T03:04:21.000+0000</td></tr><tr><td>23833</td><td>Y</td><td>75201</td><td>1640665029</td><td>2021-12-28T04:17:09.000+0000</td></tr><tr><td>23696</td><td>Y</td><td>75202</td><td>1640665868</td><td>2021-12-28T04:31:08.000+0000</td></tr><tr><td>23815</td><td>Y</td><td>75203</td><td>1640665971</td><td>2021-12-28T04:32:51.000+0000</td></tr><tr><td>23195</td><td>N</td><td>75204</td><td>1640671232</td><td>2021-12-28T06:00:32.000+0000</td></tr><tr><td>23183</td><td>Y</td><td>75205</td><td>1640672063</td><td>2021-12-28T06:14:23.000+0000</td></tr><tr><td>23367</td><td>N</td><td>75206</td><td>1640675667</td><td>2021-12-28T07:14:27.000+0000</td></tr><tr><td>23088</td><td>Y</td><td>75207</td><td>1640675687</td><td>2021-12-28T07:14:47.000+0000</td></tr><tr><td>22752</td><td>Y</td><td>75208</td><td>1640678086</td><td>2021-12-28T07:54:46.000+0000</td></tr><tr><td>23326</td><td>Y</td><td>75209</td><td>1640681064</td><td>2021-12-28T08:44:24.000+0000</td></tr><tr><td>23212</td><td>Y</td><td>75210</td><td>1640682880</td><td>2021-12-28T09:14:40.000+0000</td></tr><tr><td>23524</td><td>Y</td><td>75211</td><td>1640684944</td><td>2021-12-28T09:49:04.000+0000</td></tr><tr><td>23151</td><td>Y</td><td>75212</td><td>1640690706</td><td>2021-12-28T11:25:06.000+0000</td></tr><tr><td>23582</td><td>Y</td><td>75213</td><td>1640691368</td><td>2021-12-28T11:36:08.000+0000</td></tr><tr><td>23182</td><td>Y</td><td>75214</td><td>1640691634</td><td>2021-12-28T11:40:34.000+0000</td></tr><tr><td>22826</td><td>Y</td><td>75215</td><td>1640696465</td><td>2021-12-28T13:01:05.000+0000</td></tr><tr><td>23158</td><td>Y</td><td>75216</td><td>1640706768</td><td>2021-12-28T15:52:48.000+0000</td></tr><tr><td>23343</td><td>Y</td><td>75217</td><td>1640717605</td><td>2021-12-28T18:53:25.000+0000</td></tr><tr><td>23390</td><td>Y</td><td>75218</td><td>1640721908</td><td>2021-12-28T20:05:08.000+0000</td></tr><tr><td>23574</td><td>Y</td><td>75219</td><td>1640725566</td><td>2021-12-28T21:06:06.000+0000</td></tr><tr><td>23282</td><td>Y</td><td>75220</td><td>1640726897</td><td>2021-12-28T21:28:17.000+0000</td></tr><tr><td>23206</td><td>N</td><td>75221</td><td>1640730881</td><td>2021-12-28T22:34:41.000+0000</td></tr><tr><td>23811</td><td>Y</td><td>75222</td><td>1640731443</td><td>2021-12-28T22:44:03.000+0000</td></tr><tr><td>23734</td><td>Y</td><td>75223</td><td>1640732281</td><td>2021-12-28T22:58:01.000+0000</td></tr><tr><td>23284</td><td>N</td><td>75224</td><td>1640737911</td><td>2021-12-29T00:31:51.000+0000</td></tr><tr><td>23397</td><td>Y</td><td>75225</td><td>1640741859</td><td>2021-12-29T01:37:39.000+0000</td></tr><tr><td>23285</td><td>Y</td><td>75226</td><td>1640743461</td><td>2021-12-29T02:04:21.000+0000</td></tr><tr><td>23443</td><td>Y</td><td>75227</td><td>1640744138</td><td>2021-12-29T02:15:38.000+0000</td></tr><tr><td>23841</td><td>Y</td><td>75228</td><td>1640745536</td><td>2021-12-29T02:38:56.000+0000</td></tr><tr><td>23489</td><td>Y</td><td>75229</td><td>1640745939</td><td>2021-12-29T02:45:39.000+0000</td></tr><tr><td>23377</td><td>Y</td><td>75230</td><td>1640751789</td><td>2021-12-29T04:23:09.000+0000</td></tr><tr><td>23519</td><td>Y</td><td>75231</td><td>1640753686</td><td>2021-12-29T04:54:46.000+0000</td></tr><tr><td>23273</td><td>Y</td><td>75232</td><td>1640754906</td><td>2021-12-29T05:15:06.000+0000</td></tr><tr><td>23942</td><td>Y</td><td>75233</td><td>1640755409</td><td>2021-12-29T05:23:29.000+0000</td></tr><tr><td>23714</td><td>Y</td><td>75234</td><td>1640755921</td><td>2021-12-29T05:32:01.000+0000</td></tr><tr><td>22959</td><td>N</td><td>75235</td><td>1640758650</td><td>2021-12-29T06:17:30.000+0000</td></tr><tr><td>23642</td><td>Y</td><td>75236</td><td>1640763112</td><td>2021-12-29T07:31:52.000+0000</td></tr><tr><td>23277</td><td>N</td><td>75237</td><td>1640781747</td><td>2021-12-29T12:42:27.000+0000</td></tr><tr><td>23777</td><td>Y</td><td>75238</td><td>1640790253</td><td>2021-12-29T15:04:13.000+0000</td></tr><tr><td>23748</td><td>N</td><td>75239</td><td>1640799146</td><td>2021-12-29T17:32:26.000+0000</td></tr><tr><td>23511</td><td>Y</td><td>75240</td><td>1640799965</td><td>2021-12-29T17:46:05.000+0000</td></tr><tr><td>23964</td><td>N</td><td>75241</td><td>1640800237</td><td>2021-12-29T17:50:37.000+0000</td></tr><tr><td>23542</td><td>Y</td><td>75242</td><td>1640803027</td><td>2021-12-29T18:37:07.000+0000</td></tr><tr><td>23842</td><td>Y</td><td>75243</td><td>1640805315</td><td>2021-12-29T19:15:15.000+0000</td></tr><tr><td>23371</td><td>Y</td><td>75244</td><td>1640808136</td><td>2021-12-29T20:02:16.000+0000</td></tr><tr><td>22895</td><td>Y</td><td>75245</td><td>1640809481</td><td>2021-12-29T20:24:41.000+0000</td></tr><tr><td>23885</td><td>Y</td><td>75246</td><td>1640810227</td><td>2021-12-29T20:37:07.000+0000</td></tr><tr><td>23875</td><td>Y</td><td>75247</td><td>1640812303</td><td>2021-12-29T21:11:43.000+0000</td></tr><tr><td>23331</td><td>Y</td><td>75248</td><td>1640815265</td><td>2021-12-29T22:01:05.000+0000</td></tr><tr><td>23218</td><td>N</td><td>75249</td><td>1640828420</td><td>2021-12-30T01:40:20.000+0000</td></tr><tr><td>23779</td><td>N</td><td>75250</td><td>1640830827</td><td>2021-12-30T02:20:27.000+0000</td></tr><tr><td>23187</td><td>N</td><td>75251</td><td>1640837025</td><td>2021-12-30T04:03:45.000+0000</td></tr><tr><td>23435</td><td>Y</td><td>75252</td><td>1640837290</td><td>2021-12-30T04:08:10.000+0000</td></tr><tr><td>23124</td><td>Y</td><td>75253</td><td>1640837302</td><td>2021-12-30T04:08:22.000+0000</td></tr><tr><td>23215</td><td>N</td><td>75254</td><td>1640852084</td><td>2021-12-30T08:14:44.000+0000</td></tr><tr><td>23863</td><td>Y</td><td>75255</td><td>1640857299</td><td>2021-12-30T09:41:39.000+0000</td></tr><tr><td>23800</td><td>Y</td><td>75256</td><td>1640858077</td><td>2021-12-30T09:54:37.000+0000</td></tr><tr><td>23503</td><td>N</td><td>75257</td><td>1640859758</td><td>2021-12-30T10:22:38.000+0000</td></tr><tr><td>23755</td><td>Y</td><td>75258</td><td>1640862499</td><td>2021-12-30T11:08:19.000+0000</td></tr><tr><td>23509</td><td>Y</td><td>75259</td><td>1640864646</td><td>2021-12-30T11:44:06.000+0000</td></tr><tr><td>22338</td><td>N</td><td>75260</td><td>1640867193</td><td>2021-12-30T12:26:33.000+0000</td></tr><tr><td>22935</td><td>Y</td><td>75261</td><td>1640869044</td><td>2021-12-30T12:57:24.000+0000</td></tr><tr><td>23311</td><td>Y</td><td>75262</td><td>1640869535</td><td>2021-12-30T13:05:35.000+0000</td></tr><tr><td>23819</td><td>Y</td><td>75263</td><td>1640869633</td><td>2021-12-30T13:07:13.000+0000</td></tr><tr><td>23312</td><td>Y</td><td>75264</td><td>1640886912</td><td>2021-12-30T17:55:12.000+0000</td></tr><tr><td>23484</td><td>Y</td><td>75265</td><td>1640888803</td><td>2021-12-30T18:26:43.000+0000</td></tr><tr><td>23290</td><td>Y</td><td>75266</td><td>1640889524</td><td>2021-12-30T18:38:44.000+0000</td></tr><tr><td>23558</td><td>Y</td><td>75267</td><td>1640889752</td><td>2021-12-30T18:42:32.000+0000</td></tr><tr><td>23086</td><td>Y</td><td>75268</td><td>1640893693</td><td>2021-12-30T19:48:13.000+0000</td></tr><tr><td>23822</td><td>Y</td><td>75269</td><td>1640895938</td><td>2021-12-30T20:25:38.000+0000</td></tr><tr><td>23212</td><td>Y</td><td>75270</td><td>1640898363</td><td>2021-12-30T21:06:03.000+0000</td></tr><tr><td>23715</td><td>Y</td><td>75271</td><td>1640902531</td><td>2021-12-30T22:15:31.000+0000</td></tr><tr><td>22161</td><td>Y</td><td>75272</td><td>1640904968</td><td>2021-12-30T22:56:08.000+0000</td></tr><tr><td>23882</td><td>Y</td><td>75273</td><td>1640909763</td><td>2021-12-31T00:16:03.000+0000</td></tr><tr><td>23147</td><td>Y</td><td>75274</td><td>1640911244</td><td>2021-12-31T00:40:44.000+0000</td></tr><tr><td>23577</td><td>Y</td><td>75275</td><td>1640911324</td><td>2021-12-31T00:42:04.000+0000</td></tr><tr><td>23888</td><td>Y</td><td>75276</td><td>1640914350</td><td>2021-12-31T01:32:30.000+0000</td></tr><tr><td>22815</td><td>Y</td><td>75277</td><td>1640922137</td><td>2021-12-31T03:42:17.000+0000</td></tr><tr><td>23521</td><td>Y</td><td>75278</td><td>1640933033</td><td>2021-12-31T06:43:53.000+0000</td></tr><tr><td>23887</td><td>Y</td><td>75279</td><td>1640933550</td><td>2021-12-31T06:52:30.000+0000</td></tr><tr><td>23551</td><td>N</td><td>75280</td><td>1640933653</td><td>2021-12-31T06:54:13.000+0000</td></tr><tr><td>23886</td><td>Y</td><td>75281</td><td>1640935059</td><td>2021-12-31T07:17:39.000+0000</td></tr><tr><td>23376</td><td>Y</td><td>75282</td><td>1640935106</td><td>2021-12-31T07:18:26.000+0000</td></tr><tr><td>23911</td><td>N</td><td>75283</td><td>1640941395</td><td>2021-12-31T09:03:15.000+0000</td></tr><tr><td>23310</td><td>Y</td><td>75284</td><td>1640948702</td><td>2021-12-31T11:05:02.000+0000</td></tr><tr><td>23109</td><td>N</td><td>75285</td><td>1640950790</td><td>2021-12-31T11:39:50.000+0000</td></tr><tr><td>23291</td><td>Y</td><td>75286</td><td>1640953620</td><td>2021-12-31T12:27:00.000+0000</td></tr><tr><td>23556</td><td>Y</td><td>75287</td><td>1640953917</td><td>2021-12-31T12:31:57.000+0000</td></tr><tr><td>23581</td><td>Y</td><td>75288</td><td>1640958185</td><td>2021-12-31T13:43:05.000+0000</td></tr><tr><td>23621</td><td>Y</td><td>75289</td><td>1640960321</td><td>2021-12-31T14:18:41.000+0000</td></tr><tr><td>23365</td><td>Y</td><td>75290</td><td>1640963057</td><td>2021-12-31T15:04:17.000+0000</td></tr><tr><td>23716</td><td>N</td><td>75291</td><td>1640971896</td><td>2021-12-31T17:31:36.000+0000</td></tr><tr><td>23206</td><td>Y</td><td>75292</td><td>1640974381</td><td>2021-12-31T18:13:01.000+0000</td></tr><tr><td>23027</td><td>Y</td><td>75293</td><td>1640984029</td><td>2021-12-31T20:53:49.000+0000</td></tr><tr><td>23380</td><td>N</td><td>75294</td><td>1640987218</td><td>2021-12-31T21:46:58.000+0000</td></tr><tr><td>22701</td><td>Y</td><td>75295</td><td>1640987527</td><td>2021-12-31T21:52:07.000+0000</td></tr><tr><td>23766</td><td>Y</td><td>75296</td><td>1640990674</td><td>2021-12-31T22:44:34.000+0000</td></tr></tbody></table></div>"
      ]
     },
     "metadata": {
      "application/vnd.databricks.v1+output": {
       "addedWidgets": {},
       "aggData": [],
       "aggError": "",
       "aggOverflow": false,
       "aggSchema": [],
       "aggSeriesLimitReached": false,
       "aggType": "",
       "arguments": {},
       "columnCustomDisplayInfos": {},
       "data": [
        [
         23094,
         "Y",
         75123,
         1640392092,
         "2021-12-25T00:28:12.000+0000"
        ],
        [
         23457,
         "N",
         75124,
         1640392500,
         "2021-12-25T00:35:00.000+0000"
        ],
        [
         23564,
         "Y",
         75125,
         1640394862,
         "2021-12-25T01:14:22.000+0000"
        ],
        [
         23392,
         "N",
         75126,
         1640396067,
         "2021-12-25T01:34:27.000+0000"
        ],
        [
         23101,
         "Y",
         75127,
         1640399066,
         "2021-12-25T02:24:26.000+0000"
        ],
        [
         23466,
         "N",
         75128,
         1640404853,
         "2021-12-25T04:00:53.000+0000"
        ],
        [
         23834,
         "Y",
         75129,
         1640407272,
         "2021-12-25T04:41:12.000+0000"
        ],
        [
         23852,
         "Y",
         75130,
         1640419989,
         "2021-12-25T08:13:09.000+0000"
        ],
        [
         23483,
         "Y",
         75131,
         1640422131,
         "2021-12-25T08:48:51.000+0000"
        ],
        [
         23821,
         "N",
         75132,
         1640423697,
         "2021-12-25T09:14:57.000+0000"
        ],
        [
         23907,
         "Y",
         75133,
         1640427687,
         "2021-12-25T10:21:27.000+0000"
        ],
        [
         23088,
         "Y",
         75134,
         1640427813,
         "2021-12-25T10:23:33.000+0000"
        ],
        [
         23327,
         "Y",
         75135,
         1640432499,
         "2021-12-25T11:41:39.000+0000"
        ],
        [
         23154,
         "Y",
         75136,
         1640433629,
         "2021-12-25T12:00:29.000+0000"
        ],
        [
         23818,
         "Y",
         75137,
         1640434907,
         "2021-12-25T12:21:47.000+0000"
        ],
        [
         23568,
         "Y",
         75138,
         1640438599,
         "2021-12-25T13:23:19.000+0000"
        ],
        [
         23599,
         "Y",
         75139,
         1640441108,
         "2021-12-25T14:05:08.000+0000"
        ],
        [
         23646,
         "Y",
         75140,
         1640442728,
         "2021-12-25T14:32:08.000+0000"
        ],
        [
         23447,
         "Y",
         75141,
         1640442982,
         "2021-12-25T14:36:22.000+0000"
        ],
        [
         22196,
         "N",
         75142,
         1640444289,
         "2021-12-25T14:58:09.000+0000"
        ],
        [
         23004,
         "Y",
         75143,
         1640444735,
         "2021-12-25T15:05:35.000+0000"
        ],
        [
         22457,
         "Y",
         75144,
         1640453556,
         "2021-12-25T17:32:36.000+0000"
        ],
        [
         23560,
         "N",
         75145,
         1640454027,
         "2021-12-25T17:40:27.000+0000"
        ],
        [
         23892,
         "Y",
         75146,
         1640469617,
         "2021-12-25T22:00:17.000+0000"
        ],
        [
         23270,
         "N",
         75147,
         1640469849,
         "2021-12-25T22:04:09.000+0000"
        ],
        [
         23318,
         "Y",
         75148,
         1640470511,
         "2021-12-25T22:15:11.000+0000"
        ],
        [
         23134,
         "Y",
         75149,
         1640476865,
         "2021-12-26T00:01:05.000+0000"
        ],
        [
         23631,
         "Y",
         75150,
         1640479937,
         "2021-12-26T00:52:17.000+0000"
        ],
        [
         23447,
         "Y",
         75151,
         1640480642,
         "2021-12-26T01:04:02.000+0000"
        ],
        [
         22980,
         "Y",
         75152,
         1640489317,
         "2021-12-26T03:28:37.000+0000"
        ],
        [
         23662,
         "Y",
         75153,
         1640490661,
         "2021-12-26T03:51:01.000+0000"
        ],
        [
         23128,
         "Y",
         75154,
         1640491953,
         "2021-12-26T04:12:33.000+0000"
        ],
        [
         23305,
         "Y",
         75155,
         1640500820,
         "2021-12-26T06:40:20.000+0000"
        ],
        [
         23790,
         "Y",
         75156,
         1640506768,
         "2021-12-26T08:19:28.000+0000"
        ],
        [
         23673,
         "Y",
         75157,
         1640514816,
         "2021-12-26T10:33:36.000+0000"
        ],
        [
         22447,
         "Y",
         75158,
         1640516867,
         "2021-12-26T11:07:47.000+0000"
        ],
        [
         22600,
         "Y",
         75159,
         1640516913,
         "2021-12-26T11:08:33.000+0000"
        ],
        [
         23598,
         "Y",
         75160,
         1640517492,
         "2021-12-26T11:18:12.000+0000"
        ],
        [
         23453,
         "N",
         75161,
         1640521294,
         "2021-12-26T12:21:34.000+0000"
        ],
        [
         22477,
         "N",
         75162,
         1640526465,
         "2021-12-26T13:47:45.000+0000"
        ],
        [
         23863,
         "Y",
         75163,
         1640526485,
         "2021-12-26T13:48:05.000+0000"
        ],
        [
         22485,
         "N",
         75164,
         1640526860,
         "2021-12-26T13:54:20.000+0000"
        ],
        [
         23786,
         "N",
         75165,
         1640532784,
         "2021-12-26T15:33:04.000+0000"
        ],
        [
         23833,
         "N",
         75166,
         1640534000,
         "2021-12-26T15:53:20.000+0000"
        ],
        [
         23242,
         "N",
         75167,
         1640534721,
         "2021-12-26T16:05:21.000+0000"
        ],
        [
         23120,
         "Y",
         75168,
         1640548053,
         "2021-12-26T19:47:33.000+0000"
        ],
        [
         23815,
         "Y",
         75169,
         1640548610,
         "2021-12-26T19:56:50.000+0000"
        ],
        [
         22757,
         "Y",
         75170,
         1640548846,
         "2021-12-26T20:00:46.000+0000"
        ],
        [
         23748,
         "N",
         75171,
         1640552043,
         "2021-12-26T20:54:03.000+0000"
        ],
        [
         23416,
         "Y",
         75172,
         1640552112,
         "2021-12-26T20:55:12.000+0000"
        ],
        [
         23218,
         "N",
         75173,
         1640553981,
         "2021-12-26T21:26:21.000+0000"
        ],
        [
         23867,
         "Y",
         75174,
         1640564080,
         "2021-12-27T00:14:40.000+0000"
        ],
        [
         23259,
         "N",
         75175,
         1640567847,
         "2021-12-27T01:17:27.000+0000"
        ],
        [
         22757,
         "N",
         75176,
         1640569060,
         "2021-12-27T01:37:40.000+0000"
        ],
        [
         22599,
         "Y",
         75177,
         1640574553,
         "2021-12-27T03:09:13.000+0000"
        ],
        [
         23606,
         "Y",
         75178,
         1640575274,
         "2021-12-27T03:21:14.000+0000"
        ],
        [
         23493,
         "N",
         75179,
         1640575962,
         "2021-12-27T03:32:42.000+0000"
        ],
        [
         22467,
         "Y",
         75180,
         1640580049,
         "2021-12-27T04:40:49.000+0000"
        ],
        [
         23828,
         "Y",
         75181,
         1640582140,
         "2021-12-27T05:15:40.000+0000"
        ],
        [
         22316,
         "Y",
         75182,
         1640587536,
         "2021-12-27T06:45:36.000+0000"
        ],
        [
         23061,
         "Y",
         75183,
         1640594017,
         "2021-12-27T08:33:37.000+0000"
        ],
        [
         23813,
         "Y",
         75184,
         1640603248,
         "2021-12-27T11:07:28.000+0000"
        ],
        [
         23358,
         "Y",
         75185,
         1640611591,
         "2021-12-27T13:26:31.000+0000"
        ],
        [
         23778,
         "Y",
         75186,
         1640613010,
         "2021-12-27T13:50:10.000+0000"
        ],
        [
         23477,
         "Y",
         75187,
         1640618976,
         "2021-12-27T15:29:36.000+0000"
        ],
        [
         23179,
         "Y",
         75188,
         1640620853,
         "2021-12-27T16:00:53.000+0000"
        ],
        [
         23769,
         "Y",
         75189,
         1640625214,
         "2021-12-27T17:13:34.000+0000"
        ],
        [
         23836,
         "N",
         75190,
         1640625322,
         "2021-12-27T17:15:22.000+0000"
        ],
        [
         22557,
         "Y",
         75191,
         1640625597,
         "2021-12-27T17:19:57.000+0000"
        ],
        [
         23359,
         "Y",
         75192,
         1640631831,
         "2021-12-27T19:03:51.000+0000"
        ],
        [
         23768,
         "Y",
         75193,
         1640631849,
         "2021-12-27T19:04:09.000+0000"
        ],
        [
         23669,
         "Y",
         75194,
         1640633377,
         "2021-12-27T19:29:37.000+0000"
        ],
        [
         23823,
         "Y",
         75195,
         1640637588,
         "2021-12-27T20:39:48.000+0000"
        ],
        [
         22296,
         "Y",
         75196,
         1640642842,
         "2021-12-27T22:07:22.000+0000"
        ],
        [
         23318,
         "Y",
         75197,
         1640643224,
         "2021-12-27T22:13:44.000+0000"
        ],
        [
         23219,
         "N",
         75198,
         1640643721,
         "2021-12-27T22:22:01.000+0000"
        ],
        [
         23072,
         "Y",
         75199,
         1640653481,
         "2021-12-28T01:04:41.000+0000"
        ],
        [
         23910,
         "Y",
         75200,
         1640660661,
         "2021-12-28T03:04:21.000+0000"
        ],
        [
         23833,
         "Y",
         75201,
         1640665029,
         "2021-12-28T04:17:09.000+0000"
        ],
        [
         23696,
         "Y",
         75202,
         1640665868,
         "2021-12-28T04:31:08.000+0000"
        ],
        [
         23815,
         "Y",
         75203,
         1640665971,
         "2021-12-28T04:32:51.000+0000"
        ],
        [
         23195,
         "N",
         75204,
         1640671232,
         "2021-12-28T06:00:32.000+0000"
        ],
        [
         23183,
         "Y",
         75205,
         1640672063,
         "2021-12-28T06:14:23.000+0000"
        ],
        [
         23367,
         "N",
         75206,
         1640675667,
         "2021-12-28T07:14:27.000+0000"
        ],
        [
         23088,
         "Y",
         75207,
         1640675687,
         "2021-12-28T07:14:47.000+0000"
        ],
        [
         22752,
         "Y",
         75208,
         1640678086,
         "2021-12-28T07:54:46.000+0000"
        ],
        [
         23326,
         "Y",
         75209,
         1640681064,
         "2021-12-28T08:44:24.000+0000"
        ],
        [
         23212,
         "Y",
         75210,
         1640682880,
         "2021-12-28T09:14:40.000+0000"
        ],
        [
         23524,
         "Y",
         75211,
         1640684944,
         "2021-12-28T09:49:04.000+0000"
        ],
        [
         23151,
         "Y",
         75212,
         1640690706,
         "2021-12-28T11:25:06.000+0000"
        ],
        [
         23582,
         "Y",
         75213,
         1640691368,
         "2021-12-28T11:36:08.000+0000"
        ],
        [
         23182,
         "Y",
         75214,
         1640691634,
         "2021-12-28T11:40:34.000+0000"
        ],
        [
         22826,
         "Y",
         75215,
         1640696465,
         "2021-12-28T13:01:05.000+0000"
        ],
        [
         23158,
         "Y",
         75216,
         1640706768,
         "2021-12-28T15:52:48.000+0000"
        ],
        [
         23343,
         "Y",
         75217,
         1640717605,
         "2021-12-28T18:53:25.000+0000"
        ],
        [
         23390,
         "Y",
         75218,
         1640721908,
         "2021-12-28T20:05:08.000+0000"
        ],
        [
         23574,
         "Y",
         75219,
         1640725566,
         "2021-12-28T21:06:06.000+0000"
        ],
        [
         23282,
         "Y",
         75220,
         1640726897,
         "2021-12-28T21:28:17.000+0000"
        ],
        [
         23206,
         "N",
         75221,
         1640730881,
         "2021-12-28T22:34:41.000+0000"
        ],
        [
         23811,
         "Y",
         75222,
         1640731443,
         "2021-12-28T22:44:03.000+0000"
        ],
        [
         23734,
         "Y",
         75223,
         1640732281,
         "2021-12-28T22:58:01.000+0000"
        ],
        [
         23284,
         "N",
         75224,
         1640737911,
         "2021-12-29T00:31:51.000+0000"
        ],
        [
         23397,
         "Y",
         75225,
         1640741859,
         "2021-12-29T01:37:39.000+0000"
        ],
        [
         23285,
         "Y",
         75226,
         1640743461,
         "2021-12-29T02:04:21.000+0000"
        ],
        [
         23443,
         "Y",
         75227,
         1640744138,
         "2021-12-29T02:15:38.000+0000"
        ],
        [
         23841,
         "Y",
         75228,
         1640745536,
         "2021-12-29T02:38:56.000+0000"
        ],
        [
         23489,
         "Y",
         75229,
         1640745939,
         "2021-12-29T02:45:39.000+0000"
        ],
        [
         23377,
         "Y",
         75230,
         1640751789,
         "2021-12-29T04:23:09.000+0000"
        ],
        [
         23519,
         "Y",
         75231,
         1640753686,
         "2021-12-29T04:54:46.000+0000"
        ],
        [
         23273,
         "Y",
         75232,
         1640754906,
         "2021-12-29T05:15:06.000+0000"
        ],
        [
         23942,
         "Y",
         75233,
         1640755409,
         "2021-12-29T05:23:29.000+0000"
        ],
        [
         23714,
         "Y",
         75234,
         1640755921,
         "2021-12-29T05:32:01.000+0000"
        ],
        [
         22959,
         "N",
         75235,
         1640758650,
         "2021-12-29T06:17:30.000+0000"
        ],
        [
         23642,
         "Y",
         75236,
         1640763112,
         "2021-12-29T07:31:52.000+0000"
        ],
        [
         23277,
         "N",
         75237,
         1640781747,
         "2021-12-29T12:42:27.000+0000"
        ],
        [
         23777,
         "Y",
         75238,
         1640790253,
         "2021-12-29T15:04:13.000+0000"
        ],
        [
         23748,
         "N",
         75239,
         1640799146,
         "2021-12-29T17:32:26.000+0000"
        ],
        [
         23511,
         "Y",
         75240,
         1640799965,
         "2021-12-29T17:46:05.000+0000"
        ],
        [
         23964,
         "N",
         75241,
         1640800237,
         "2021-12-29T17:50:37.000+0000"
        ],
        [
         23542,
         "Y",
         75242,
         1640803027,
         "2021-12-29T18:37:07.000+0000"
        ],
        [
         23842,
         "Y",
         75243,
         1640805315,
         "2021-12-29T19:15:15.000+0000"
        ],
        [
         23371,
         "Y",
         75244,
         1640808136,
         "2021-12-29T20:02:16.000+0000"
        ],
        [
         22895,
         "Y",
         75245,
         1640809481,
         "2021-12-29T20:24:41.000+0000"
        ],
        [
         23885,
         "Y",
         75246,
         1640810227,
         "2021-12-29T20:37:07.000+0000"
        ],
        [
         23875,
         "Y",
         75247,
         1640812303,
         "2021-12-29T21:11:43.000+0000"
        ],
        [
         23331,
         "Y",
         75248,
         1640815265,
         "2021-12-29T22:01:05.000+0000"
        ],
        [
         23218,
         "N",
         75249,
         1640828420,
         "2021-12-30T01:40:20.000+0000"
        ],
        [
         23779,
         "N",
         75250,
         1640830827,
         "2021-12-30T02:20:27.000+0000"
        ],
        [
         23187,
         "N",
         75251,
         1640837025,
         "2021-12-30T04:03:45.000+0000"
        ],
        [
         23435,
         "Y",
         75252,
         1640837290,
         "2021-12-30T04:08:10.000+0000"
        ],
        [
         23124,
         "Y",
         75253,
         1640837302,
         "2021-12-30T04:08:22.000+0000"
        ],
        [
         23215,
         "N",
         75254,
         1640852084,
         "2021-12-30T08:14:44.000+0000"
        ],
        [
         23863,
         "Y",
         75255,
         1640857299,
         "2021-12-30T09:41:39.000+0000"
        ],
        [
         23800,
         "Y",
         75256,
         1640858077,
         "2021-12-30T09:54:37.000+0000"
        ],
        [
         23503,
         "N",
         75257,
         1640859758,
         "2021-12-30T10:22:38.000+0000"
        ],
        [
         23755,
         "Y",
         75258,
         1640862499,
         "2021-12-30T11:08:19.000+0000"
        ],
        [
         23509,
         "Y",
         75259,
         1640864646,
         "2021-12-30T11:44:06.000+0000"
        ],
        [
         22338,
         "N",
         75260,
         1640867193,
         "2021-12-30T12:26:33.000+0000"
        ],
        [
         22935,
         "Y",
         75261,
         1640869044,
         "2021-12-30T12:57:24.000+0000"
        ],
        [
         23311,
         "Y",
         75262,
         1640869535,
         "2021-12-30T13:05:35.000+0000"
        ],
        [
         23819,
         "Y",
         75263,
         1640869633,
         "2021-12-30T13:07:13.000+0000"
        ],
        [
         23312,
         "Y",
         75264,
         1640886912,
         "2021-12-30T17:55:12.000+0000"
        ],
        [
         23484,
         "Y",
         75265,
         1640888803,
         "2021-12-30T18:26:43.000+0000"
        ],
        [
         23290,
         "Y",
         75266,
         1640889524,
         "2021-12-30T18:38:44.000+0000"
        ],
        [
         23558,
         "Y",
         75267,
         1640889752,
         "2021-12-30T18:42:32.000+0000"
        ],
        [
         23086,
         "Y",
         75268,
         1640893693,
         "2021-12-30T19:48:13.000+0000"
        ],
        [
         23822,
         "Y",
         75269,
         1640895938,
         "2021-12-30T20:25:38.000+0000"
        ],
        [
         23212,
         "Y",
         75270,
         1640898363,
         "2021-12-30T21:06:03.000+0000"
        ],
        [
         23715,
         "Y",
         75271,
         1640902531,
         "2021-12-30T22:15:31.000+0000"
        ],
        [
         22161,
         "Y",
         75272,
         1640904968,
         "2021-12-30T22:56:08.000+0000"
        ],
        [
         23882,
         "Y",
         75273,
         1640909763,
         "2021-12-31T00:16:03.000+0000"
        ],
        [
         23147,
         "Y",
         75274,
         1640911244,
         "2021-12-31T00:40:44.000+0000"
        ],
        [
         23577,
         "Y",
         75275,
         1640911324,
         "2021-12-31T00:42:04.000+0000"
        ],
        [
         23888,
         "Y",
         75276,
         1640914350,
         "2021-12-31T01:32:30.000+0000"
        ],
        [
         22815,
         "Y",
         75277,
         1640922137,
         "2021-12-31T03:42:17.000+0000"
        ],
        [
         23521,
         "Y",
         75278,
         1640933033,
         "2021-12-31T06:43:53.000+0000"
        ],
        [
         23887,
         "Y",
         75279,
         1640933550,
         "2021-12-31T06:52:30.000+0000"
        ],
        [
         23551,
         "N",
         75280,
         1640933653,
         "2021-12-31T06:54:13.000+0000"
        ],
        [
         23886,
         "Y",
         75281,
         1640935059,
         "2021-12-31T07:17:39.000+0000"
        ],
        [
         23376,
         "Y",
         75282,
         1640935106,
         "2021-12-31T07:18:26.000+0000"
        ],
        [
         23911,
         "N",
         75283,
         1640941395,
         "2021-12-31T09:03:15.000+0000"
        ],
        [
         23310,
         "Y",
         75284,
         1640948702,
         "2021-12-31T11:05:02.000+0000"
        ],
        [
         23109,
         "N",
         75285,
         1640950790,
         "2021-12-31T11:39:50.000+0000"
        ],
        [
         23291,
         "Y",
         75286,
         1640953620,
         "2021-12-31T12:27:00.000+0000"
        ],
        [
         23556,
         "Y",
         75287,
         1640953917,
         "2021-12-31T12:31:57.000+0000"
        ],
        [
         23581,
         "Y",
         75288,
         1640958185,
         "2021-12-31T13:43:05.000+0000"
        ],
        [
         23621,
         "Y",
         75289,
         1640960321,
         "2021-12-31T14:18:41.000+0000"
        ],
        [
         23365,
         "Y",
         75290,
         1640963057,
         "2021-12-31T15:04:17.000+0000"
        ],
        [
         23716,
         "N",
         75291,
         1640971896,
         "2021-12-31T17:31:36.000+0000"
        ],
        [
         23206,
         "Y",
         75292,
         1640974381,
         "2021-12-31T18:13:01.000+0000"
        ],
        [
         23027,
         "Y",
         75293,
         1640984029,
         "2021-12-31T20:53:49.000+0000"
        ],
        [
         23380,
         "N",
         75294,
         1640987218,
         "2021-12-31T21:46:58.000+0000"
        ],
        [
         22701,
         "Y",
         75295,
         1640987527,
         "2021-12-31T21:52:07.000+0000"
        ],
        [
         23766,
         "Y",
         75296,
         1640990674,
         "2021-12-31T22:44:34.000+0000"
        ]
       ],
       "datasetInfos": [],
       "dbfsResultPath": null,
       "isJsonSchema": true,
       "metadata": {},
       "overflow": false,
       "plotOptions": {
        "customPlotOptions": {},
        "displayType": "table",
        "pivotAggregation": null,
        "pivotColumns": null,
        "xColumns": null,
        "yColumns": null
       },
       "removedWidgets": [],
       "schema": [
        {
         "metadata": "{}",
         "name": "customer_id",
         "type": "\"long\""
        },
        {
         "metadata": "{}",
         "name": "notifications",
         "type": "\"string\""
        },
        {
         "metadata": "{}",
         "name": "order_id",
         "type": "\"long\""
        },
        {
         "metadata": "{}",
         "name": "order_timestamp",
         "type": "\"long\""
        },
        {
         "metadata": "{}",
         "name": "order_timestamp",
         "type": "\"timestamp\""
        }
       ],
       "type": "table"
      }
     },
     "output_type": "display_data"
    }
   ],
   "source": [
    "%sql\n",
    "SELECT *, timestamp(order_timestamp) FROM OrdersTable WHERE (timestamp(order_timestamp) > \"2021-01-01\")"
   ]
  },
  {
   "cell_type": "code",
   "execution_count": 0,
   "metadata": {
    "application/vnd.databricks.v1+cell": {
     "cellMetadata": {
      "byteLimit": 2048000,
      "implicitDf": true,
      "rowLimit": 10000
     },
     "inputWidgets": {},
     "nuid": "e12ef6a1-393a-493a-9911-02857a3deff7",
     "showTitle": false,
     "title": ""
    }
   },
   "outputs": [
    {
     "output_type": "display_data",
     "data": {
      "text/html": [
       "<style scoped>\n",
       "  .table-result-container {\n",
       "    max-height: 300px;\n",
       "    overflow: auto;\n",
       "  }\n",
       "  table, th, td {\n",
       "    border: 1px solid black;\n",
       "    border-collapse: collapse;\n",
       "  }\n",
       "  th, td {\n",
       "    padding: 5px;\n",
       "  }\n",
       "  th {\n",
       "    text-align: left;\n",
       "  }\n",
       "</style><div class='table-result-container'><table class='table-result'><thead style='background-color: white'><tr><th>message</th></tr></thead><tbody><tr><td>This Delta Live Tables query is syntactically valid, but you must create a pipeline in order to define and populate your table.</td></tr></tbody></table></div>"
      ]
     },
     "metadata": {
      "application/vnd.databricks.v1+output": {
       "addedWidgets": {},
       "aggData": [],
       "aggError": "",
       "aggOverflow": false,
       "aggSchema": [],
       "aggSeriesLimitReached": false,
       "aggType": "",
       "arguments": {},
       "columnCustomDisplayInfos": {},
       "data": [
        [
         "This Delta Live Tables query is syntactically valid, but you must create a pipeline in order to define and populate your table."
        ]
       ],
       "datasetInfos": [],
       "dbfsResultPath": null,
       "isJsonSchema": true,
       "metadata": {},
       "overflow": false,
       "plotOptions": {
        "customPlotOptions": {},
        "displayType": "table",
        "pivotAggregation": null,
        "pivotColumns": null,
        "xColumns": null,
        "yColumns": null
       },
       "removedWidgets": [],
       "schema": [
        {
         "metadata": "{}",
         "name": "message",
         "type": "\"string\""
        }
       ],
       "type": "table"
      }
     },
     "output_type": "display_data"
    }
   ],
   "source": [
    "%sql\n",
    "CREATE OR REFRESH STREAMING LIVE TABLE OrdersTestStream\n",
    "AS SELECT current_timestamp() processing_time, input_file_name() source_file, *\n",
    "FROM cloud_files(\"dbfs:/mnt/dbacademy-users/hamed.vaheb@pwc.lu/data-engineer-learning-path/pipeline_demo/stream-source/orders\", \"json\", map(\"cloudFiles.inferColumnTypes\", \"true\"))"
   ]
  },
  {
   "cell_type": "markdown",
   "metadata": {
    "application/vnd.databricks.v1+cell": {
     "cellMetadata": {
      "byteLimit": 2048000,
      "rowLimit": 10000
     },
     "inputWidgets": {},
     "nuid": "0789a5bd-e507-4b78-9843-63f9e33ce842",
     "showTitle": false,
     "title": ""
    }
   },
   "source": [
    "<img src=\"https://files.training.databricks.com/images/icon_hint_24.png\"> **HINT:** You will want to refer back to the paths above for Notebook #2 and Notebook #3 in later lessons."
   ]
  },
  {
   "cell_type": "markdown",
   "metadata": {
    "application/vnd.databricks.v1+cell": {
     "cellMetadata": {
      "byteLimit": 2048000,
      "rowLimit": 10000
     },
     "inputWidgets": {},
     "nuid": "322a4492-cf1e-4f08-8c3a-4ef3b4b020aa",
     "showTitle": false,
     "title": ""
    }
   },
   "source": [
    "## Create and configure a pipeline\n",
    "\n",
    "In this section you will create a pipeline using a single notebook provided with the courseware.\n",
    "\n",
    "We'll explore the contents of this notebook in the following lesson.\n",
    "\n",
    "We will later add Notebooks #2 & #3 to the pipeline but for now, let's focus on just Notebook #1:\n",
    "\n",
    "1. Click the **Workflows** button in the sidebar.\n",
    "1. Select the **Delta Live Tables** tab.\n",
    "1. Click the **Create Pipeline** button.\n",
    "1. In the field **Product edition**, select the value \"**Advanced**\".\n",
    "1. In the field **Pipeline Name**, enter the value specified in the cell above\n",
    "1. In the field **Notebook Libraries**, copy the path for Notebook #1 specified in the cell above and paste it here.\n",
    "    * Though this document is a standard Databricks Notebook, the syntax is specialized to DLT table declarations.\n",
    "    * We will be exploring the syntax in the exercise that follows.\n",
    "    * Notebooks #2 and #3 will be added in later lessons\n",
    "1. Under **Configuration**, add two configuration parameters:\n",
    "   * Click **Add configuration**, set the \"key\" to **spark.master** and the \"value\" to **local[\\*]**. This is so that our cluster will run as a Single Node as opposed to a more expensive multi-node cluster.\n",
    "   * Click **Add configuration**, set the \"key\" to **source** and the \"value\" to the value provided in the cell above. This will be used as a parameter to the pipline specifying the source of our pipeline's data stream.\n",
    "1. In the field **Storage location**, enter the value specified in the cell above.\n",
    "    * This optional field allows the user to specify a location to store logs, tables, and other information related to pipeline execution. If not specified, DLT will automatically generate a directory.\n",
    "1. Set **Pipeline Mode** to **Triggered**.\n",
    "    * This field specifies how the pipeline will be run.\n",
    "    * **Triggered** pipelines run once and then shut down until the next manual or scheduled update.\n",
    "    * **Continuous** pipelines run continuously, ingesting new data as it arrives.\n",
    "    * Choose the mode based on latency and cost requirements.\n",
    "1. Disable autoscaling by unchecking **Enable autoscaling**.\n",
    "    * **Enable autoscaling**, **Min Workers** and **Max Workers** control the worker configuration for the underlying cluster processing the pipeline.\n",
    "    * Notice the DBU estimate provided, similar to that provided when configuring interactive clusters.\n",
    "1. Set the number of **`workers`** to **`0`** (zero). \n",
    "    * This value works in conjunction with the **spark.master** paramter defined above to configure the cluster as a Single Node cluster.\n",
    "1. Check the **Use Photon Acceleration** box.\n",
    "1. For **Channel**, select **Current**\n",
    "1. For **Policy**, select the value provided in the cell above."
   ]
  },
  {
   "cell_type": "markdown",
   "metadata": {
    "application/vnd.databricks.v1+cell": {
     "cellMetadata": {
      "byteLimit": 2048000,
      "rowLimit": 10000
     },
     "inputWidgets": {},
     "nuid": "16c7ca3a-6943-48c1-9d63-fedfaa180564",
     "showTitle": false,
     "title": ""
    }
   },
   "source": [
    "Running in Local-Mode    \n",
    "* We need to configure the pipeline to run on a local-mode cluster.\n",
    "* In most deployments, we would adjust the number of workers to accomodate the scale of the pipeline.\n",
    "* Our datasets are really small, we are just prototyping, so we can use a Local-Mode cluster which reduces cloud costs by employing only a single VM.\n",
    "\n",
    "Local-Mode Setup:    \n",
    "1. In the fields **Workers**, set the value to \"**0**\" (zero) - worker and driver will use the same VM.\n",
    "1. Click **Add configuration** and then set the key to **spark.master** and the corresponding value to **local[*]**\n",
    "\n",
    "<img src=\"https://files.training.databricks.com/images/icon_note_24.png\"> **WARNING:** Setting works to zero and failing to configure **spark.master** will result in a failure to create your cluster as it will be waiting forever for a worker that will never be created."
   ]
  },
  {
   "cell_type": "markdown",
   "metadata": {
    "application/vnd.databricks.v1+cell": {
     "cellMetadata": {
      "byteLimit": 2048000,
      "rowLimit": 10000
     },
     "inputWidgets": {},
     "nuid": "5b4d7daa-bcff-4141-add2-f4462d610a36",
     "showTitle": false,
     "title": ""
    }
   },
   "source": [
    "Final Steps\n",
    "1. Click the **Create** button\n",
    "1. Verify that the pipeline mode is set to \"**Development**\""
   ]
  },
  {
   "cell_type": "code",
   "execution_count": 0,
   "metadata": {
    "application/vnd.databricks.v1+cell": {
     "cellMetadata": {
      "byteLimit": 2048000,
      "rowLimit": 10000
     },
     "inputWidgets": {},
     "nuid": "0eec0b44-c6e6-4384-8344-3208ad2a5c3e",
     "showTitle": false,
     "title": ""
    }
   },
   "outputs": [
    {
     "output_type": "display_data",
     "data": {
      "text/plain": [
       ""
      ]
     },
     "metadata": {
      "application/vnd.databricks.v1+output": {
       "arguments": {},
       "data": "",
       "errorSummary": "Command skipped",
       "errorTraceType": "ansi",
       "metadata": {},
       "type": "ipynbError"
      }
     },
     "output_type": "display_data"
    }
   ],
   "source": [
    "DA.create_pipeline(pipeline_language)"
   ]
  },
  {
   "cell_type": "code",
   "execution_count": 0,
   "metadata": {
    "application/vnd.databricks.v1+cell": {
     "cellMetadata": {
      "byteLimit": 2048000,
      "rowLimit": 10000
     },
     "inputWidgets": {},
     "nuid": "f7ff9048-e30f-4e84-a923-22d38aa20748",
     "showTitle": false,
     "title": ""
    }
   },
   "outputs": [
    {
     "output_type": "display_data",
     "data": {
      "text/plain": [
       ""
      ]
     },
     "metadata": {
      "application/vnd.databricks.v1+output": {
       "arguments": {},
       "data": "",
       "errorSummary": "Command skipped",
       "errorTraceType": "ansi",
       "metadata": {},
       "type": "ipynbError"
      }
     },
     "output_type": "display_data"
    }
   ],
   "source": [
    "DA.validate_pipeline_config(pipeline_language)"
   ]
  },
  {
   "cell_type": "markdown",
   "metadata": {
    "application/vnd.databricks.v1+cell": {
     "cellMetadata": {
      "byteLimit": 2048000,
      "rowLimit": 10000
     },
     "inputWidgets": {},
     "nuid": "eba2e703-ac9a-4b8c-ac83-5fde2434878d",
     "showTitle": false,
     "title": ""
    }
   },
   "source": [
    "## Run a pipeline\n",
    "\n",
    "With a pipeline created, you will now run the pipeline.\n",
    "\n",
    "1. Select **Development** to run the pipeline in development mode. Development mode provides for more expeditious iterative development by reusing the cluster (as opposed to creating a new cluster for each run) and disabling retries so that you can readily identify and fix errors. Refer to the <a href=\"https://docs.databricks.com/data-engineering/delta-live-tables/delta-live-tables-user-guide.html#optimize-execution\" target=\"_blank\">documentation</a> for more information on this feature.\n",
    "2. Click **Start**.\n",
    "\n",
    "The initial run will take several minutes while a cluster is provisioned. Subsequent runs will be appreciably quicker."
   ]
  },
  {
   "cell_type": "markdown",
   "metadata": {
    "application/vnd.databricks.v1+cell": {
     "cellMetadata": {
      "byteLimit": 2048000,
      "rowLimit": 10000
     },
     "inputWidgets": {},
     "nuid": "85430264-4eec-4222-b812-b7f1a2034742",
     "showTitle": false,
     "title": ""
    }
   },
   "source": [
    "## Exploring the DAG\n",
    "\n",
    "As the pipeline completes, the execution flow is graphed. \n",
    "\n",
    "Selecting the tables reviews the details.\n",
    "\n",
    "Select **orders_silver**. Notice the results reported in the **Data Quality** section. \n",
    "\n",
    "With each triggered update, all newly arriving data will be processed through your pipeline. Metrics will always be reported for current run."
   ]
  },
  {
   "cell_type": "markdown",
   "metadata": {
    "application/vnd.databricks.v1+cell": {
     "cellMetadata": {
      "byteLimit": 2048000,
      "rowLimit": 10000
     },
     "inputWidgets": {},
     "nuid": "dd190e06-bffe-4ba2-9aa0-446a85f181ed",
     "showTitle": false,
     "title": ""
    }
   },
   "source": [
    "## Land another batch of data\n",
    "\n",
    "Run the cell below to land more data in the source directory, then manually trigger a pipeline update."
   ]
  },
  {
   "cell_type": "code",
   "execution_count": 0,
   "metadata": {
    "application/vnd.databricks.v1+cell": {
     "cellMetadata": {
      "byteLimit": 2048000,
      "rowLimit": 10000
     },
     "inputWidgets": {},
     "nuid": "bb1bda30-101e-4628-86be-3a4f80404b25",
     "showTitle": false,
     "title": ""
    }
   },
   "outputs": [
    {
     "output_type": "display_data",
     "data": {
      "text/plain": [
       ""
      ]
     },
     "metadata": {
      "application/vnd.databricks.v1+output": {
       "arguments": {},
       "data": "",
       "errorSummary": "Command skipped",
       "errorTraceType": "ansi",
       "metadata": {},
       "type": "ipynbError"
      }
     },
     "output_type": "display_data"
    }
   ],
   "source": [
    "DA.dlt_data_factory.load()"
   ]
  },
  {
   "cell_type": "markdown",
   "metadata": {
    "application/vnd.databricks.v1+cell": {
     "cellMetadata": {
      "byteLimit": 2048000,
      "rowLimit": 10000
     },
     "inputWidgets": {},
     "nuid": "47be898e-cb3c-4226-9e8c-4b5052a5877a",
     "showTitle": false,
     "title": ""
    }
   },
   "source": [
    "As we continue through the course, you can return to this notebook and use the method provided above to land new data.\n",
    "\n",
    "Running this entire notebook again will delete the underlying data files for both the source data and your DLT Pipeline. \n",
    "\n",
    "If you get disconnected from your cluster or have some other event where you wish to land more data without deleting things, refer to the <a href=\"$./DE 4.99 - Land New Data\" target=\"_blank\">DE 4.99 - Land New Data</a> notebook."
   ]
  },
  {
   "cell_type": "markdown",
   "metadata": {
    "application/vnd.databricks.v1+cell": {
     "cellMetadata": {
      "byteLimit": 2048000,
      "rowLimit": 10000
     },
     "inputWidgets": {},
     "nuid": "f3ca3e70-ef90-4ca0-90ec-1d420314a6c4",
     "showTitle": false,
     "title": ""
    }
   },
   "source": [
    "-sandbox\n",
    "&copy; 2022 Databricks, Inc. All rights reserved.<br/>\n",
    "Apache, Apache Spark, Spark and the Spark logo are trademarks of the <a href=\"https://www.apache.org/\">Apache Software Foundation</a>.<br/>\n",
    "<br/>\n",
    "<a href=\"https://databricks.com/privacy-policy\">Privacy Policy</a> | <a href=\"https://databricks.com/terms-of-use\">Terms of Use</a> | <a href=\"https://help.databricks.com/\">Support</a>"
   ]
  }
 ],
 "metadata": {
  "application/vnd.databricks.v1+notebook": {
   "dashboards": [],
   "language": "python",
   "notebookMetadata": {
    "mostRecentlyExecutedCommandWithImplicitDF": {
     "commandId": 3704143526821673,
     "dataframes": [
      "_sqldf"
     ]
    },
    "pythonIndentUnit": 2
   },
   "notebookName": "DE 4.1 - DLT UI Walkthrough",
   "widgets": {}
  }
 },
 "nbformat": 4,
 "nbformat_minor": 0
}
